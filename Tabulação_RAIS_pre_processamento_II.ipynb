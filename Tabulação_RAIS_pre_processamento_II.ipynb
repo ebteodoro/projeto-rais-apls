{
 "cells": [
  {
   "cell_type": "markdown",
   "metadata": {},
   "source": [
    "### Ajuste base e separação jovens"
   ]
  },
  {
   "cell_type": "code",
   "execution_count": 1,
   "metadata": {},
   "outputs": [],
   "source": [
    "#instalação dos componetes\n",
    "import pandas as pd\n",
    "import numpy as np\n",
    "import os\n",
    "import glob\n",
    "import re\n",
    "import gc\n"
   ]
  },
  {
   "cell_type": "code",
   "execution_count": 2,
   "metadata": {},
   "outputs": [],
   "source": [
    "# ## Seleção de colunas para importação. \n",
    "cols_name = ['ano',\n",
    "            'Município',\n",
    "            'Raça Cor',\n",
    "            'Sexo Trabalhador',\n",
    "            'Idade',\n",
    "            'Faixa Etária',\n",
    "            'Escolaridade após 2005',\n",
    "            'CNAE 2.0 Classe',\n",
    "            'Tipo Vínculo',\n",
    "            'Tamanho Estabelecimento', \n",
    "            'Vl Remun Média Nom'\n",
    "]"
   ]
  },
  {
   "cell_type": "markdown",
   "metadata": {},
   "source": [
    "### Ajuste dados RAIS - II"
   ]
  },
  {
   "cell_type": "code",
   "execution_count": 3,
   "metadata": {},
   "outputs": [],
   "source": [
    "# importando dados rais\n",
    "df_rais_vinculos = pd.read_csv('dados_rais/dados_rais.csv', usecols = cols_name)"
   ]
  },
  {
   "cell_type": "code",
   "execution_count": 6,
   "metadata": {},
   "outputs": [],
   "source": [
    "# ajustar nomes das colunas\n",
    "df_rais_vinculos.columns = df_rais_vinculos.columns.str.lower().str.replace(' ', '_').str.replace('.', '').str.replace('í', 'i', regex=True).str.replace('á', 'a', regex=True).str.replace('ó', 'o', regex=True).str.replace('ç', 'c', regex=True).str.replace('ã', 'a', regex=True).str.replace('é', 'e', regex=True)"
   ]
  },
  {
   "cell_type": "code",
   "execution_count": 7,
   "metadata": {},
   "outputs": [
    {
     "data": {
      "text/plain": [
       "Index(['ano', 'municipio', 'raca_cor', 'sexo_trabalhador', 'idade',\n",
       "       'faixa_etaria', 'escolaridade_apos_2005', 'cnae_20_classe',\n",
       "       'tamanho_estabelecimento', 'tipo_vinculo', 'vl_remun_media_nom'],\n",
       "      dtype='object')"
      ]
     },
     "execution_count": 7,
     "metadata": {},
     "output_type": "execute_result"
    }
   ],
   "source": [
    "#encontrando as colunas\n",
    "df_rais_vinculos.columns"
   ]
  },
  {
   "cell_type": "code",
   "execution_count": 8,
   "metadata": {},
   "outputs": [
    {
     "data": {
      "text/html": [
       "<div>\n",
       "<style scoped>\n",
       "    .dataframe tbody tr th:only-of-type {\n",
       "        vertical-align: middle;\n",
       "    }\n",
       "\n",
       "    .dataframe tbody tr th {\n",
       "        vertical-align: top;\n",
       "    }\n",
       "\n",
       "    .dataframe thead th {\n",
       "        text-align: right;\n",
       "    }\n",
       "</style>\n",
       "<table border=\"1\" class=\"dataframe\">\n",
       "  <thead>\n",
       "    <tr style=\"text-align: right;\">\n",
       "      <th></th>\n",
       "      <th>ano</th>\n",
       "      <th>municipio</th>\n",
       "      <th>raca_cor</th>\n",
       "      <th>sexo_trabalhador</th>\n",
       "      <th>idade</th>\n",
       "      <th>faixa_etaria</th>\n",
       "      <th>escolaridade_apos_2005</th>\n",
       "      <th>cnae_20_classe</th>\n",
       "      <th>tamanho_estabelecimento</th>\n",
       "      <th>tipo_vinculo</th>\n",
       "      <th>vl_remun_media_nom</th>\n",
       "    </tr>\n",
       "  </thead>\n",
       "  <tbody>\n",
       "    <tr>\n",
       "      <th>0</th>\n",
       "      <td>2018</td>\n",
       "      <td>500630</td>\n",
       "      <td>8</td>\n",
       "      <td>1</td>\n",
       "      <td>35</td>\n",
       "      <td>5</td>\n",
       "      <td>1</td>\n",
       "      <td>10651</td>\n",
       "      <td>5</td>\n",
       "      <td>10</td>\n",
       "      <td>1442.17</td>\n",
       "    </tr>\n",
       "    <tr>\n",
       "      <th>1</th>\n",
       "      <td>2018</td>\n",
       "      <td>500630</td>\n",
       "      <td>8</td>\n",
       "      <td>1</td>\n",
       "      <td>43</td>\n",
       "      <td>6</td>\n",
       "      <td>1</td>\n",
       "      <td>10651</td>\n",
       "      <td>5</td>\n",
       "      <td>10</td>\n",
       "      <td>1500.00</td>\n",
       "    </tr>\n",
       "    <tr>\n",
       "      <th>2</th>\n",
       "      <td>2018</td>\n",
       "      <td>500320</td>\n",
       "      <td>2</td>\n",
       "      <td>1</td>\n",
       "      <td>59</td>\n",
       "      <td>7</td>\n",
       "      <td>1</td>\n",
       "      <td>47121</td>\n",
       "      <td>2</td>\n",
       "      <td>10</td>\n",
       "      <td>0.00</td>\n",
       "    </tr>\n",
       "    <tr>\n",
       "      <th>3</th>\n",
       "      <td>2018</td>\n",
       "      <td>500500</td>\n",
       "      <td>9</td>\n",
       "      <td>1</td>\n",
       "      <td>62</td>\n",
       "      <td>7</td>\n",
       "      <td>1</td>\n",
       "      <td>10911</td>\n",
       "      <td>2</td>\n",
       "      <td>10</td>\n",
       "      <td>1743.67</td>\n",
       "    </tr>\n",
       "    <tr>\n",
       "      <th>4</th>\n",
       "      <td>2018</td>\n",
       "      <td>500110</td>\n",
       "      <td>8</td>\n",
       "      <td>1</td>\n",
       "      <td>52</td>\n",
       "      <td>7</td>\n",
       "      <td>1</td>\n",
       "      <td>2101</td>\n",
       "      <td>5</td>\n",
       "      <td>10</td>\n",
       "      <td>1372.66</td>\n",
       "    </tr>\n",
       "  </tbody>\n",
       "</table>\n",
       "</div>"
      ],
      "text/plain": [
       "    ano  municipio  raca_cor  sexo_trabalhador  idade  faixa_etaria  \\\n",
       "0  2018     500630         8                 1     35             5   \n",
       "1  2018     500630         8                 1     43             6   \n",
       "2  2018     500320         2                 1     59             7   \n",
       "3  2018     500500         9                 1     62             7   \n",
       "4  2018     500110         8                 1     52             7   \n",
       "\n",
       "   escolaridade_apos_2005  cnae_20_classe  tamanho_estabelecimento  \\\n",
       "0                       1           10651                        5   \n",
       "1                       1           10651                        5   \n",
       "2                       1           47121                        2   \n",
       "3                       1           10911                        2   \n",
       "4                       1            2101                        5   \n",
       "\n",
       "   tipo_vinculo  vl_remun_media_nom  \n",
       "0            10             1442.17  \n",
       "1            10             1500.00  \n",
       "2            10                0.00  \n",
       "3            10             1743.67  \n",
       "4            10             1372.66  "
      ]
     },
     "execution_count": 8,
     "metadata": {},
     "output_type": "execute_result"
    }
   ],
   "source": [
    "df_rais_vinculos.head()"
   ]
  },
  {
   "cell_type": "code",
   "execution_count": 9,
   "metadata": {},
   "outputs": [
    {
     "data": {
      "text/plain": [
       "(237985081, 11)"
      ]
     },
     "execution_count": 9,
     "metadata": {},
     "output_type": "execute_result"
    }
   ],
   "source": [
    "df_rais_vinculos.shape"
   ]
  },
  {
   "cell_type": "code",
   "execution_count": 10,
   "metadata": {},
   "outputs": [],
   "source": [
    "df_rais_vinculos_jovens = df_rais_vinculos.query('idade >= 15 & idade <= 29')"
   ]
  },
  {
   "cell_type": "code",
   "execution_count": 11,
   "metadata": {},
   "outputs": [
    {
     "data": {
      "text/plain": [
       "(65083382, 11)"
      ]
     },
     "execution_count": 11,
     "metadata": {},
     "output_type": "execute_result"
    }
   ],
   "source": [
    "df_rais_vinculos_jovens.shape"
   ]
  },
  {
   "cell_type": "markdown",
   "metadata": {},
   "source": [
    "#### Ajuste colunas município e cnae"
   ]
  },
  {
   "cell_type": "code",
   "execution_count": 18,
   "metadata": {},
   "outputs": [],
   "source": [
    "# Agora, use o método 'zfill' para adicionar zeros à esquerda para valores com 4 dígitos\n",
    "df_rais_vinculos_jovens.loc[:, 'cnae_20_classe'] = df_rais_vinculos_jovens['cnae_20_classe'].astype(str).apply(lambda x: x.zfill(5))"
   ]
  },
  {
   "cell_type": "code",
   "execution_count": 22,
   "metadata": {},
   "outputs": [],
   "source": [
    "# cria coluna grupo\n",
    "df_rais_vinculos_jovens.loc[:, 'cnae_20_divisao'] = df_rais_vinculos_jovens['cnae_20_classe'].apply(lambda x: x[:-3])"
   ]
  },
  {
   "cell_type": "code",
   "execution_count": null,
   "metadata": {},
   "outputs": [],
   "source": [
    "# cria coluna grupo\n",
    "df_rais_vinculos_jovens['cnae_20_grupo'] = df_rais_vinculos_jovens['cnae_20_classe'].apply(lambda x: x[:-2])"
   ]
  },
  {
   "cell_type": "code",
   "execution_count": null,
   "metadata": {},
   "outputs": [],
   "source": [
    "# cria coluna grupo\n",
    "df_rais_vinculos_jovens['uf'] = df_rais_vinculos_jovens['municipio'].astype(str).apply(lambda x: x[:-4])"
   ]
  },
  {
   "cell_type": "code",
   "execution_count": 26,
   "metadata": {},
   "outputs": [
    {
     "data": {
      "text/html": [
       "<div>\n",
       "<style scoped>\n",
       "    .dataframe tbody tr th:only-of-type {\n",
       "        vertical-align: middle;\n",
       "    }\n",
       "\n",
       "    .dataframe tbody tr th {\n",
       "        vertical-align: top;\n",
       "    }\n",
       "\n",
       "    .dataframe thead th {\n",
       "        text-align: right;\n",
       "    }\n",
       "</style>\n",
       "<table border=\"1\" class=\"dataframe\">\n",
       "  <thead>\n",
       "    <tr style=\"text-align: right;\">\n",
       "      <th></th>\n",
       "      <th>ano</th>\n",
       "      <th>municipio</th>\n",
       "      <th>raca_cor</th>\n",
       "      <th>sexo_trabalhador</th>\n",
       "      <th>idade</th>\n",
       "      <th>faixa_etaria</th>\n",
       "      <th>escolaridade_apos_2005</th>\n",
       "      <th>cnae_20_classe</th>\n",
       "      <th>tamanho_estabelecimento</th>\n",
       "      <th>tipo_vinculo</th>\n",
       "      <th>vl_remun_media_nom</th>\n",
       "      <th>cnae_20_divisao</th>\n",
       "      <th>cnae_20_grupo</th>\n",
       "      <th>uf</th>\n",
       "    </tr>\n",
       "  </thead>\n",
       "  <tbody>\n",
       "    <tr>\n",
       "      <th>0</th>\n",
       "      <td>2018</td>\n",
       "      <td>500270</td>\n",
       "      <td>8</td>\n",
       "      <td>1</td>\n",
       "      <td>22</td>\n",
       "      <td>3</td>\n",
       "      <td>1</td>\n",
       "      <td>10694</td>\n",
       "      <td>5</td>\n",
       "      <td>10</td>\n",
       "      <td>1344.96</td>\n",
       "      <td>10</td>\n",
       "      <td>106</td>\n",
       "      <td>50</td>\n",
       "    </tr>\n",
       "    <tr>\n",
       "      <th>1</th>\n",
       "      <td>2018</td>\n",
       "      <td>500370</td>\n",
       "      <td>1</td>\n",
       "      <td>1</td>\n",
       "      <td>25</td>\n",
       "      <td>4</td>\n",
       "      <td>1</td>\n",
       "      <td>22234</td>\n",
       "      <td>3</td>\n",
       "      <td>10</td>\n",
       "      <td>1223.16</td>\n",
       "      <td>22</td>\n",
       "      <td>222</td>\n",
       "      <td>50</td>\n",
       "    </tr>\n",
       "    <tr>\n",
       "      <th>2</th>\n",
       "      <td>2018</td>\n",
       "      <td>500240</td>\n",
       "      <td>2</td>\n",
       "      <td>1</td>\n",
       "      <td>22</td>\n",
       "      <td>3</td>\n",
       "      <td>1</td>\n",
       "      <td>94201</td>\n",
       "      <td>8</td>\n",
       "      <td>40</td>\n",
       "      <td>314.82</td>\n",
       "      <td>94</td>\n",
       "      <td>942</td>\n",
       "      <td>50</td>\n",
       "    </tr>\n",
       "    <tr>\n",
       "      <th>3</th>\n",
       "      <td>2018</td>\n",
       "      <td>500240</td>\n",
       "      <td>1</td>\n",
       "      <td>1</td>\n",
       "      <td>25</td>\n",
       "      <td>4</td>\n",
       "      <td>1</td>\n",
       "      <td>94201</td>\n",
       "      <td>8</td>\n",
       "      <td>40</td>\n",
       "      <td>2041.33</td>\n",
       "      <td>94</td>\n",
       "      <td>942</td>\n",
       "      <td>50</td>\n",
       "    </tr>\n",
       "    <tr>\n",
       "      <th>4</th>\n",
       "      <td>2018</td>\n",
       "      <td>500370</td>\n",
       "      <td>8</td>\n",
       "      <td>1</td>\n",
       "      <td>27</td>\n",
       "      <td>4</td>\n",
       "      <td>1</td>\n",
       "      <td>23117</td>\n",
       "      <td>5</td>\n",
       "      <td>10</td>\n",
       "      <td>1352.95</td>\n",
       "      <td>23</td>\n",
       "      <td>231</td>\n",
       "      <td>50</td>\n",
       "    </tr>\n",
       "  </tbody>\n",
       "</table>\n",
       "</div>"
      ],
      "text/plain": [
       "    ano  municipio  raca_cor  sexo_trabalhador  idade  faixa_etaria  \\\n",
       "0  2018     500270         8                 1     22             3   \n",
       "1  2018     500370         1                 1     25             4   \n",
       "2  2018     500240         2                 1     22             3   \n",
       "3  2018     500240         1                 1     25             4   \n",
       "4  2018     500370         8                 1     27             4   \n",
       "\n",
       "   escolaridade_apos_2005 cnae_20_classe  tamanho_estabelecimento  \\\n",
       "0                       1          10694                        5   \n",
       "1                       1          22234                        3   \n",
       "2                       1          94201                        8   \n",
       "3                       1          94201                        8   \n",
       "4                       1          23117                        5   \n",
       "\n",
       "   tipo_vinculo  vl_remun_media_nom cnae_20_divisao cnae_20_grupo  uf  \n",
       "0            10             1344.96              10           106  50  \n",
       "1            10             1223.16              22           222  50  \n",
       "2            40              314.82              94           942  50  \n",
       "3            40             2041.33              94           942  50  \n",
       "4            10             1352.95              23           231  50  "
      ]
     },
     "execution_count": 26,
     "metadata": {},
     "output_type": "execute_result"
    }
   ],
   "source": [
    "# Ajustar a coluna indice\n",
    "df_rais_vinculos_jovens.head().reset_index(drop=True)"
   ]
  },
  {
   "cell_type": "code",
   "execution_count": 32,
   "metadata": {},
   "outputs": [],
   "source": [
    "df_rais_vinculos_jovens.to_csv('dados_rais/dados_rais_jovens.csv', index=False)"
   ]
  }
 ],
 "metadata": {
  "kernelspec": {
   "display_name": "Python 3",
   "language": "python",
   "name": "python3"
  },
  "language_info": {
   "codemirror_mode": {
    "name": "ipython",
    "version": 3
   },
   "file_extension": ".py",
   "mimetype": "text/x-python",
   "name": "python",
   "nbconvert_exporter": "python",
   "pygments_lexer": "ipython3",
   "version": "3.12.2"
  }
 },
 "nbformat": 4,
 "nbformat_minor": 2
}
