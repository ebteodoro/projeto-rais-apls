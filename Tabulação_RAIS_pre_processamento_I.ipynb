{
 "cells": [
  {
   "cell_type": "markdown",
   "metadata": {},
   "source": [
    "### Junção dos dados 2018 a 2022"
   ]
  },
  {
   "cell_type": "code",
   "execution_count": 1,
   "metadata": {},
   "outputs": [],
   "source": [
    "#instalação dos componetes\n",
    "import pandas as pd\n",
    "import numpy as np\n"
   ]
  },
  {
   "cell_type": "markdown",
   "metadata": {},
   "source": [
    "### Análise exploratória dados RAIS"
   ]
  },
  {
   "cell_type": "code",
   "execution_count": 2,
   "metadata": {},
   "outputs": [],
   "source": [
    "# ## Seleção de colunas para importação. \n",
    "cols_name = ['ano',\n",
    "            'Município',\n",
    "            'Raça Cor',\n",
    "            'Sexo Trabalhador',\n",
    "            'Idade',\n",
    "            'Faixa Etária',\n",
    "            'Escolaridade após 2005',\n",
    "            'CNAE 2.0 Classe',\n",
    "            'Tipo Vínculo',\n",
    "            'Tamanho Estabelecimento', \n",
    "            'Vl Remun Média Nom'\n",
    "]"
   ]
  },
  {
   "cell_type": "code",
   "execution_count": 4,
   "metadata": {},
   "outputs": [],
   "source": [
    "# importando dados rais\n",
    "df_rais_vinculos_2022 = pd.read_csv('dados_rais/df_rais_total_vinculos_2022.csv', usecols = cols_name,                       \n",
    "       dtype={'Raça Cor': np.uint8, \n",
    "       'Sexo Trabalhador': np.uint8, \n",
    "       'Idade': np.uint8,\n",
    "       'Faixa Etária': np.uint8, \n",
    "       'Escolaridade após 2005': np.uint8,\n",
    "       'Tipo Vínculo': np.uint8,\n",
    "       'Tamanho Estabelecimento': np.uint8\n",
    "})"
   ]
  },
  {
   "cell_type": "code",
   "execution_count": 5,
   "metadata": {},
   "outputs": [],
   "source": [
    "# importando dados rais\n",
    "df_rais_vinculos_2021 = pd.read_csv('dados_rais/df_rais_total_vinculos_2021.csv', usecols = cols_name,                       \n",
    "       dtype={'Raça Cor': np.uint8, \n",
    "       'Sexo Trabalhador': np.uint8, \n",
    "       'Idade': np.uint8,\n",
    "       'Faixa Etária': np.uint8, \n",
    "       'Escolaridade após 2005': np.uint8,\n",
    "       'Tipo Vínculo': np.uint8,\n",
    "       'Tamanho Estabelecimento': np.uint8\n",
    "})"
   ]
  },
  {
   "cell_type": "code",
   "execution_count": 6,
   "metadata": {},
   "outputs": [],
   "source": [
    "# importando dados rais\n",
    "df_rais_vinculos_2020 = pd.read_csv('dados_rais/df_rais_total_vinculos_2020.csv', usecols = cols_name,                       \n",
    "       dtype={'Raça Cor': np.uint8, \n",
    "       'Sexo Trabalhador': np.uint8, \n",
    "       'Idade': np.uint8,\n",
    "       'Faixa Etária': np.uint8, \n",
    "       'Escolaridade após 2005': np.uint8,\n",
    "       'Tipo Vínculo': np.uint8,\n",
    "       'Tamanho Estabelecimento': np.uint8\n",
    "})"
   ]
  },
  {
   "cell_type": "code",
   "execution_count": 7,
   "metadata": {},
   "outputs": [],
   "source": [
    "# importando dados rais\n",
    "df_rais_vinculos_2019 = pd.read_csv('dados_rais/df_rais_total_vinculos_2019.csv', usecols = cols_name,                       \n",
    "       dtype={'Raça Cor': np.uint8, \n",
    "       'Sexo Trabalhador': np.uint8, \n",
    "       'Idade': np.uint8,\n",
    "       'Faixa Etária': np.uint8, \n",
    "       'Escolaridade após 2005': np.uint8,\n",
    "       'Tipo Vínculo': np.uint8,\n",
    "       'Tamanho Estabelecimento': np.uint8\n",
    "})"
   ]
  },
  {
   "cell_type": "code",
   "execution_count": 8,
   "metadata": {},
   "outputs": [],
   "source": [
    "# importando dados rais\n",
    "df_rais_vinculos_2018 = pd.read_csv('dados_rais/df_rais_total_vinculos_2018.csv', usecols = cols_name,                       \n",
    "       dtype={'Raça Cor': np.uint8, \n",
    "       'Sexo Trabalhador': np.uint8, \n",
    "       'Idade': np.uint8,\n",
    "       'Faixa Etária': np.uint8, \n",
    "       'Escolaridade após 2005': np.uint8,\n",
    "       'Tipo Vínculo': np.uint8,\n",
    "       'Tamanho Estabelecimento': np.uint8\n",
    "})"
   ]
  },
  {
   "cell_type": "code",
   "execution_count": 9,
   "metadata": {},
   "outputs": [],
   "source": [
    "df_rais_vinculos = pd.concat([df_rais_vinculos_2018, df_rais_vinculos_2019, df_rais_vinculos_2020, df_rais_vinculos_2021, df_rais_vinculos_2022], ignore_index=True)"
   ]
  },
  {
   "cell_type": "code",
   "execution_count": 16,
   "metadata": {},
   "outputs": [
    {
     "data": {
      "text/html": [
       "<div>\n",
       "<style scoped>\n",
       "    .dataframe tbody tr th:only-of-type {\n",
       "        vertical-align: middle;\n",
       "    }\n",
       "\n",
       "    .dataframe tbody tr th {\n",
       "        vertical-align: top;\n",
       "    }\n",
       "\n",
       "    .dataframe thead th {\n",
       "        text-align: right;\n",
       "    }\n",
       "</style>\n",
       "<table border=\"1\" class=\"dataframe\">\n",
       "  <thead>\n",
       "    <tr style=\"text-align: right;\">\n",
       "      <th></th>\n",
       "      <th>ano</th>\n",
       "      <th>Município</th>\n",
       "      <th>Raça Cor</th>\n",
       "      <th>Sexo Trabalhador</th>\n",
       "      <th>Idade</th>\n",
       "      <th>Faixa Etária</th>\n",
       "      <th>Escolaridade após 2005</th>\n",
       "      <th>CNAE 2.0 Classe</th>\n",
       "      <th>Tamanho Estabelecimento</th>\n",
       "      <th>Tipo Vínculo</th>\n",
       "      <th>Vl Remun Média Nom</th>\n",
       "    </tr>\n",
       "  </thead>\n",
       "  <tbody>\n",
       "    <tr>\n",
       "      <th>0</th>\n",
       "      <td>2018</td>\n",
       "      <td>500630</td>\n",
       "      <td>8</td>\n",
       "      <td>1</td>\n",
       "      <td>35</td>\n",
       "      <td>5</td>\n",
       "      <td>1</td>\n",
       "      <td>10651</td>\n",
       "      <td>5</td>\n",
       "      <td>10</td>\n",
       "      <td>1442.17</td>\n",
       "    </tr>\n",
       "    <tr>\n",
       "      <th>1</th>\n",
       "      <td>2018</td>\n",
       "      <td>500630</td>\n",
       "      <td>8</td>\n",
       "      <td>1</td>\n",
       "      <td>43</td>\n",
       "      <td>6</td>\n",
       "      <td>1</td>\n",
       "      <td>10651</td>\n",
       "      <td>5</td>\n",
       "      <td>10</td>\n",
       "      <td>1500.00</td>\n",
       "    </tr>\n",
       "    <tr>\n",
       "      <th>2</th>\n",
       "      <td>2018</td>\n",
       "      <td>500320</td>\n",
       "      <td>2</td>\n",
       "      <td>1</td>\n",
       "      <td>59</td>\n",
       "      <td>7</td>\n",
       "      <td>1</td>\n",
       "      <td>47121</td>\n",
       "      <td>2</td>\n",
       "      <td>10</td>\n",
       "      <td>0.00</td>\n",
       "    </tr>\n",
       "    <tr>\n",
       "      <th>3</th>\n",
       "      <td>2018</td>\n",
       "      <td>500500</td>\n",
       "      <td>9</td>\n",
       "      <td>1</td>\n",
       "      <td>62</td>\n",
       "      <td>7</td>\n",
       "      <td>1</td>\n",
       "      <td>10911</td>\n",
       "      <td>2</td>\n",
       "      <td>10</td>\n",
       "      <td>1743.67</td>\n",
       "    </tr>\n",
       "    <tr>\n",
       "      <th>4</th>\n",
       "      <td>2018</td>\n",
       "      <td>500110</td>\n",
       "      <td>8</td>\n",
       "      <td>1</td>\n",
       "      <td>52</td>\n",
       "      <td>7</td>\n",
       "      <td>1</td>\n",
       "      <td>2101</td>\n",
       "      <td>5</td>\n",
       "      <td>10</td>\n",
       "      <td>1372.66</td>\n",
       "    </tr>\n",
       "  </tbody>\n",
       "</table>\n",
       "</div>"
      ],
      "text/plain": [
       "    ano  Município  Raça Cor  Sexo Trabalhador  Idade  Faixa Etária  \\\n",
       "0  2018     500630         8                 1     35             5   \n",
       "1  2018     500630         8                 1     43             6   \n",
       "2  2018     500320         2                 1     59             7   \n",
       "3  2018     500500         9                 1     62             7   \n",
       "4  2018     500110         8                 1     52             7   \n",
       "\n",
       "   Escolaridade após 2005  CNAE 2.0 Classe  Tamanho Estabelecimento  \\\n",
       "0                       1            10651                        5   \n",
       "1                       1            10651                        5   \n",
       "2                       1            47121                        2   \n",
       "3                       1            10911                        2   \n",
       "4                       1             2101                        5   \n",
       "\n",
       "   Tipo Vínculo  Vl Remun Média Nom  \n",
       "0            10             1442.17  \n",
       "1            10             1500.00  \n",
       "2            10                0.00  \n",
       "3            10             1743.67  \n",
       "4            10             1372.66  "
      ]
     },
     "execution_count": 16,
     "metadata": {},
     "output_type": "execute_result"
    }
   ],
   "source": [
    "df_rais_vinculos.head()"
   ]
  },
  {
   "cell_type": "code",
   "execution_count": 17,
   "metadata": {},
   "outputs": [
    {
     "data": {
      "text/plain": [
       "237985081"
      ]
     },
     "execution_count": 17,
     "metadata": {},
     "output_type": "execute_result"
    }
   ],
   "source": [
    "df_rais_vinculos['Município'].count()"
   ]
  },
  {
   "cell_type": "code",
   "execution_count": 18,
   "metadata": {},
   "outputs": [],
   "source": [
    "df_rais_vinculos.to_csv('dados_rais/dados_rais.csv', index=False)"
   ]
  },
  {
   "cell_type": "code",
   "execution_count": 18,
   "metadata": {},
   "outputs": [],
   "source": [
    "del df_rais_vinculos"
   ]
  }
 ],
 "metadata": {
  "kernelspec": {
   "display_name": "Python 3",
   "language": "python",
   "name": "python3"
  },
  "language_info": {
   "codemirror_mode": {
    "name": "ipython",
    "version": 3
   },
   "file_extension": ".py",
   "mimetype": "text/x-python",
   "name": "python",
   "nbconvert_exporter": "python",
   "pygments_lexer": "ipython3",
   "version": "3.12.2"
  }
 },
 "nbformat": 4,
 "nbformat_minor": 2
}
