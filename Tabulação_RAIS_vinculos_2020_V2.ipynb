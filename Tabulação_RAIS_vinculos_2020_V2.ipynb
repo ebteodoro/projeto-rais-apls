{
 "cells": [
  {
   "cell_type": "code",
   "execution_count": 1,
   "id": "b1a4d8c1",
   "metadata": {},
   "outputs": [],
   "source": [
    "#instalação dos componetes\n",
    "import pandas as pd\n",
    "import numpy as np\n",
    "import os\n",
    "import glob\n",
    "import re\n",
    "import gc\n",
    "\n",
    "# configurando o pandas para não mostrar a notação científica para números\n",
    "pd.set_option('display.float_format', lambda x: '%.4f' % x)"
   ]
  },
  {
   "cell_type": "code",
   "execution_count": 2,
   "id": "3acf2c13",
   "metadata": {},
   "outputs": [],
   "source": [
    "# configurando para mostrar todas as colunas   \n",
    "pd.set_option('display.max_columns', None)\n",
    "pd.set_option('max_colwidth', None)"
   ]
  },
  {
   "attachments": {},
   "cell_type": "markdown",
   "id": "4341e41a",
   "metadata": {},
   "source": [
    "## Tratamento de dados Rais"
   ]
  },
  {
   "cell_type": "code",
   "execution_count": 3,
   "id": "b1a9f6ce",
   "metadata": {},
   "outputs": [],
   "source": [
    "# ## Seleção de colunas para importação. \n",
    "cols_name = [ 'Município',\n",
    "            'Nacionalidade',\n",
    "            'Raça Cor',\n",
    "            'Sexo Trabalhador',\n",
    "            'Idade',\n",
    "            'Faixa Etária',\n",
    "            'Escolaridade após 2005',\n",
    "            'Vínculo Ativo 31/12',\n",
    "            'Vl Remun Média Nom', \n",
    "            'Vl Remun Média (SM)',\n",
    "            'CBO Ocupação 2002',\n",
    "            'CNAE 2.0 Classe',\n",
    "            'CNAE 2.0 Subclasse',\n",
    "            'Natureza Jurídica',\n",
    "            'Tamanho Estabelecimento',\n",
    "            'Tipo Estab',\n",
    "            'Tipo Vínculo',\n",
    "            'Tipo Admissão'\n",
    "]"
   ]
  },
  {
   "attachments": {},
   "cell_type": "markdown",
   "id": "67b9b9e5",
   "metadata": {},
   "source": [
    "#### Importar e agregar dados RAIS 2020"
   ]
  },
  {
   "attachments": {},
   "cell_type": "markdown",
   "id": "cab5d5ae",
   "metadata": {},
   "source": [
    "#### Import SUL"
   ]
  },
  {
   "cell_type": "code",
   "execution_count": 4,
   "id": "002c8c94",
   "metadata": {},
   "outputs": [
    {
     "name": "stderr",
     "output_type": "stream",
     "text": [
      "C:\\Users\\ebteo\\AppData\\Local\\Temp\\ipykernel_12008\\2982371204.py:2: DtypeWarning: Columns (7) have mixed types. Specify dtype option on import or set low_memory=False.\n",
      "  df_rais_vinculos_sul = pd.read_csv('2020/RAIS_VINC_PUB_SUL.txt', sep=';' , encoding='latin-1', float_precision='round_trip', decimal=',', usecols = cols_name)\n"
     ]
    }
   ],
   "source": [
    "# importando dados rais\n",
    "df_rais_vinculos_sul = pd.read_csv('2020/RAIS_VINC_PUB_SUL.txt', sep=';' , encoding='latin-1', float_precision='round_trip', decimal=',', usecols = cols_name)\n",
    "\n",
    "## Crisa coluna ano\n",
    "df_rais_vinculos_sul['ano'] = 2020\n",
    "\n",
    "# # Reorganizado posição das colunas. \n",
    "df_rais_vinculos_sul = df_rais_vinculos_sul[[\n",
    "            'ano',\n",
    "            'Município',\n",
    "            'Nacionalidade',\n",
    "            'Raça Cor',\n",
    "            'Sexo Trabalhador',\n",
    "            'Idade',\n",
    "            'Faixa Etária',\n",
    "            'Escolaridade após 2005',\n",
    "            'Vínculo Ativo 31/12',\n",
    "            'CBO Ocupação 2002',\n",
    "            'CNAE 2.0 Classe', \n",
    "            'CNAE 2.0 Subclasse',\n",
    "            'Natureza Jurídica',\n",
    "            'Tamanho Estabelecimento', \n",
    "            'Tipo Estab',  \n",
    "            'Tipo Admissão',\n",
    "            'Tipo Vínculo',\n",
    "            'Vl Remun Média Nom',\n",
    "            'Vl Remun Média (SM)' ]]\n",
    "\n",
    "# Filtrar trabalhadores ativos em 31/12\n",
    "df_rais_vinculos_sul = df_rais_vinculos_sul[(df_rais_vinculos_sul['Vínculo Ativo 31/12'] == 1)]\n",
    "\n",
    "## Gera planilha de dados\n",
    "df_rais_vinculos_sul.to_csv('2020/rais_2020/df_rais_vinculos_sul.csv', index=False)\n",
    "\n",
    "## limpeza de memória\n",
    "del df_rais_vinculos_sul\n",
    "gc.collect()"
   ]
  },
  {
   "attachments": {},
   "cell_type": "markdown",
   "id": "170d15d6",
   "metadata": {},
   "source": [
    "#### Import Nordeste"
   ]
  },
  {
   "cell_type": "code",
   "execution_count": 6,
   "id": "96fbf6bc",
   "metadata": {},
   "outputs": [
    {
     "name": "stderr",
     "output_type": "stream",
     "text": [
      "C:\\Users\\ebteo\\AppData\\Local\\Temp\\ipykernel_12008\\1721809343.py:2: DtypeWarning: Columns (7) have mixed types. Specify dtype option on import or set low_memory=False.\n",
      "  df_rais_vinculos_nordeste = pd.read_csv('2020/RAIS_VINC_PUB_NORDESTE.txt', sep=';' , encoding='latin-1', float_precision='round_trip', decimal=',', usecols = cols_name)\n"
     ]
    },
    {
     "data": {
      "text/plain": [
       "0"
      ]
     },
     "execution_count": 6,
     "metadata": {},
     "output_type": "execute_result"
    }
   ],
   "source": [
    "# importando dados rais\n",
    "df_rais_vinculos_nordeste = pd.read_csv('2020/RAIS_VINC_PUB_NORDESTE.txt', sep=';' , encoding='latin-1', float_precision='round_trip', decimal=',', usecols = cols_name)\n",
    "\n",
    "## Crisa coluna ano\n",
    "df_rais_vinculos_nordeste['ano'] = 2020\n",
    "\n",
    "## Reorganizado posição das colunas. \n",
    "df_rais_vinculos_nordeste = df_rais_vinculos_nordeste[[\n",
    "            'ano',\n",
    "            'Município',\n",
    "            'Nacionalidade',\n",
    "            'Raça Cor',\n",
    "            'Sexo Trabalhador',\n",
    "            'Idade',\n",
    "            'Faixa Etária',\n",
    "            'Escolaridade após 2005',\n",
    "            'Vínculo Ativo 31/12',\n",
    "            'CBO Ocupação 2002',\n",
    "            'CNAE 2.0 Classe', \n",
    "            'CNAE 2.0 Subclasse',\n",
    "            'Natureza Jurídica',\n",
    "            'Tamanho Estabelecimento', \n",
    "            'Tipo Estab',  \n",
    "            'Tipo Admissão',\n",
    "            'Tipo Vínculo',\n",
    "            'Vl Remun Média Nom',\n",
    "            'Vl Remun Média (SM)' ]]\n",
    "\n",
    "# Filtrar trabalhadores ativos em 31/12\n",
    "df_rais_vinculos_nordeste = df_rais_vinculos_nordeste[(df_rais_vinculos_nordeste['Vínculo Ativo 31/12'] == 1)]\n",
    "\n",
    "## Gera planilha de dados\n",
    "df_rais_vinculos_nordeste.to_csv('2020/rais_2020/df_rais_vinculos_nordeste.csv', index=False)\n",
    "\n",
    "## limpeza de memória\n",
    "del df_rais_vinculos_nordeste\n",
    "gc.collect()"
   ]
  },
  {
   "attachments": {},
   "cell_type": "markdown",
   "id": "7d9bf2d2",
   "metadata": {},
   "source": [
    "#### Import NORTE"
   ]
  },
  {
   "cell_type": "code",
   "execution_count": 7,
   "id": "46246276",
   "metadata": {},
   "outputs": [
    {
     "name": "stderr",
     "output_type": "stream",
     "text": [
      "C:\\Users\\ebteo\\AppData\\Local\\Temp\\ipykernel_12008\\3168458889.py:2: DtypeWarning: Columns (7) have mixed types. Specify dtype option on import or set low_memory=False.\n",
      "  df_rais_vinculos_norte = pd.read_csv('2020/RAIS_VINC_PUB_NORTE.txt', sep=';' , encoding='latin-1',float_precision='round_trip', decimal=',', usecols = cols_name)\n"
     ]
    },
    {
     "data": {
      "text/plain": [
       "0"
      ]
     },
     "execution_count": 7,
     "metadata": {},
     "output_type": "execute_result"
    }
   ],
   "source": [
    "# importando dados rais\n",
    "df_rais_vinculos_norte = pd.read_csv('2020/RAIS_VINC_PUB_NORTE.txt', sep=';' , encoding='latin-1',float_precision='round_trip', decimal=',', usecols = cols_name)\n",
    "\n",
    "## Crisa coluna ano\n",
    "df_rais_vinculos_norte['ano'] = 2020\n",
    "\n",
    "## Reorganizado posição das colunas. \n",
    "df_rais_vinculos_norte = df_rais_vinculos_norte[[\n",
    "            'ano',\n",
    "            'Município',\n",
    "            'Nacionalidade',\n",
    "            'Raça Cor',\n",
    "            'Sexo Trabalhador',\n",
    "            'Idade',\n",
    "            'Faixa Etária',\n",
    "            'Escolaridade após 2005',\n",
    "            'Vínculo Ativo 31/12',\n",
    "            'CBO Ocupação 2002',\n",
    "            'CNAE 2.0 Classe', \n",
    "            'CNAE 2.0 Subclasse',\n",
    "            'Natureza Jurídica',\n",
    "            'Tamanho Estabelecimento', \n",
    "            'Tipo Estab',  \n",
    "            'Tipo Admissão',\n",
    "            'Tipo Vínculo',\n",
    "            'Vl Remun Média Nom',\n",
    "            'Vl Remun Média (SM)' ]]\n",
    "\n",
    "# Filtrar trabalhadores ativos em 31/12\n",
    "df_rais_vinculos_norte = df_rais_vinculos_norte[(df_rais_vinculos_norte['Vínculo Ativo 31/12'] == 1)]\n",
    "\n",
    "## Gera planilha de dados\n",
    "df_rais_vinculos_norte.to_csv('2020/rais_2020/df_rais_vinculos_norte.csv', index=False)\n",
    "\n",
    "## limpeza de memória\n",
    "del df_rais_vinculos_norte\n",
    "gc.collect()"
   ]
  },
  {
   "attachments": {},
   "cell_type": "markdown",
   "id": "00d75f31",
   "metadata": {},
   "source": [
    "#### Import MG, ES e RJ. "
   ]
  },
  {
   "cell_type": "code",
   "execution_count": 8,
   "id": "4f9f84d3",
   "metadata": {},
   "outputs": [
    {
     "name": "stderr",
     "output_type": "stream",
     "text": [
      "C:\\Users\\ebteo\\AppData\\Local\\Temp\\ipykernel_12008\\2597060653.py:2: DtypeWarning: Columns (7) have mixed types. Specify dtype option on import or set low_memory=False.\n",
      "  df_rais_vinculos_mg_es_rj = pd.read_csv('2020/RAIS_VINC_PUB_MG_ES_RJ.txt', sep=';' , encoding='latin-1',float_precision='round_trip', decimal=',', usecols = cols_name)\n"
     ]
    },
    {
     "data": {
      "text/plain": [
       "0"
      ]
     },
     "execution_count": 8,
     "metadata": {},
     "output_type": "execute_result"
    }
   ],
   "source": [
    "# importando dados rais\n",
    "df_rais_vinculos_mg_es_rj = pd.read_csv('2020/RAIS_VINC_PUB_MG_ES_RJ.txt', sep=';' , encoding='latin-1',float_precision='round_trip', decimal=',', usecols = cols_name)\n",
    "\n",
    "## Crisa coluna ano\n",
    "df_rais_vinculos_mg_es_rj['ano'] = 2020\n",
    "\n",
    "## Reorganizado posição das colunas. \n",
    "df_rais_vinculos_mg_es_rj = df_rais_vinculos_mg_es_rj[[\n",
    "            'ano',\n",
    "            'Município',\n",
    "            'Nacionalidade',\n",
    "            'Raça Cor',\n",
    "            'Sexo Trabalhador',\n",
    "            'Idade',\n",
    "            'Faixa Etária',\n",
    "            'Escolaridade após 2005',\n",
    "            'Vínculo Ativo 31/12',\n",
    "            'CBO Ocupação 2002',\n",
    "            'CNAE 2.0 Classe', \n",
    "            'CNAE 2.0 Subclasse',\n",
    "            'Natureza Jurídica',\n",
    "            'Tamanho Estabelecimento', \n",
    "            'Tipo Estab',  \n",
    "            'Tipo Admissão',\n",
    "            'Tipo Vínculo',\n",
    "            'Vl Remun Média Nom',\n",
    "            'Vl Remun Média (SM)' ]]\n",
    "\n",
    "# Filtrar trabalhadores ativos em 31/12\n",
    "df_rais_vinculos_mg_es_rj = df_rais_vinculos_mg_es_rj[(df_rais_vinculos_mg_es_rj['Vínculo Ativo 31/12'] == 1)]\n",
    "\n",
    "## Gera planilha de dados\n",
    "df_rais_vinculos_mg_es_rj.to_csv('2020/rais_2020/df_rais_vinculos_mg_es_rj.csv', index=False)\n",
    "\n",
    "## limpeza de memória\n",
    "del df_rais_vinculos_mg_es_rj\n",
    "gc.collect()"
   ]
  },
  {
   "attachments": {},
   "cell_type": "markdown",
   "id": "99419d4b",
   "metadata": {},
   "source": [
    "#### Import CENTRO_OESTE."
   ]
  },
  {
   "cell_type": "code",
   "execution_count": 9,
   "id": "f313173a",
   "metadata": {},
   "outputs": [
    {
     "name": "stderr",
     "output_type": "stream",
     "text": [
      "C:\\Users\\ebteo\\AppData\\Local\\Temp\\ipykernel_12008\\3561656691.py:2: DtypeWarning: Columns (7) have mixed types. Specify dtype option on import or set low_memory=False.\n",
      "  df_rais_vinculos_centro_oeste = pd.read_csv('2020/RAIS_VINC_PUB_CENTRO_OESTE.txt', sep=';' , encoding='latin-1',float_precision='round_trip', decimal=',', usecols = cols_name)\n"
     ]
    },
    {
     "data": {
      "text/plain": [
       "0"
      ]
     },
     "execution_count": 9,
     "metadata": {},
     "output_type": "execute_result"
    }
   ],
   "source": [
    "# importando dados rais\n",
    "df_rais_vinculos_centro_oeste = pd.read_csv('2020/RAIS_VINC_PUB_CENTRO_OESTE.txt', sep=';' , encoding='latin-1',float_precision='round_trip', decimal=',', usecols = cols_name)\n",
    "\n",
    "## Crisa coluna ano\n",
    "df_rais_vinculos_centro_oeste['ano'] = 2020\n",
    "\n",
    "# # Reorganizado posição das colunas. \n",
    "df_rais_vinculos_centro_oeste = df_rais_vinculos_centro_oeste[[\n",
    "            'ano',\n",
    "            'Município',\n",
    "            'Nacionalidade',\n",
    "            'Raça Cor',\n",
    "            'Sexo Trabalhador',\n",
    "            'Idade',\n",
    "            'Faixa Etária',\n",
    "            'Escolaridade após 2005',\n",
    "            'Vínculo Ativo 31/12',\n",
    "            'CBO Ocupação 2002',\n",
    "            'CNAE 2.0 Classe', \n",
    "            'CNAE 2.0 Subclasse',\n",
    "            'Natureza Jurídica',\n",
    "            'Tamanho Estabelecimento', \n",
    "            'Tipo Estab',  \n",
    "            'Tipo Admissão',\n",
    "            'Tipo Vínculo',\n",
    "            'Vl Remun Média Nom',\n",
    "            'Vl Remun Média (SM)' ]]\n",
    "\n",
    "# Filtrar trabalhadores ativos em 31/12\n",
    "df_rais_vinculos_centro_oeste = df_rais_vinculos_centro_oeste[(df_rais_vinculos_centro_oeste['Vínculo Ativo 31/12'] == 1)]\n",
    "\n",
    "## Gera planilha de dados\n",
    "df_rais_vinculos_centro_oeste.to_csv('2020/rais_2020/df_rais_vinculos_centro_oeste.csv', index=False)\n",
    "\n",
    "## limpeza de memória\n",
    "del df_rais_vinculos_centro_oeste\n",
    "gc.collect()"
   ]
  },
  {
   "attachments": {},
   "cell_type": "markdown",
   "id": "cfb06a0e",
   "metadata": {},
   "source": [
    "#### Import SP."
   ]
  },
  {
   "cell_type": "code",
   "execution_count": 10,
   "id": "7fc83d52",
   "metadata": {},
   "outputs": [
    {
     "name": "stderr",
     "output_type": "stream",
     "text": [
      "C:\\Users\\ebteo\\AppData\\Local\\Temp\\ipykernel_12008\\3151438372.py:2: DtypeWarning: Columns (7) have mixed types. Specify dtype option on import or set low_memory=False.\n",
      "  df_rais_vinculos_sp = pd.read_csv('2020/RAIS_VINC_PUB_SP.txt', sep=';' , encoding='latin-1',float_precision='round_trip', decimal=',', usecols = cols_name)\n"
     ]
    },
    {
     "data": {
      "text/plain": [
       "0"
      ]
     },
     "execution_count": 10,
     "metadata": {},
     "output_type": "execute_result"
    }
   ],
   "source": [
    "# importando dados rais\n",
    "df_rais_vinculos_sp = pd.read_csv('2020/RAIS_VINC_PUB_SP.txt', sep=';' , encoding='latin-1',float_precision='round_trip', decimal=',', usecols = cols_name)\n",
    "\n",
    "## Crisa coluna ano\n",
    "df_rais_vinculos_sp['ano'] = 2020\n",
    "\n",
    "# # Reorganizado posição das colunas. \n",
    "df_rais_vinculos_sp = df_rais_vinculos_sp[[\n",
    "            'ano',\n",
    "            'Município',\n",
    "            'Nacionalidade',\n",
    "            'Raça Cor',\n",
    "            'Sexo Trabalhador',\n",
    "            'Idade',\n",
    "            'Faixa Etária',\n",
    "            'Escolaridade após 2005',\n",
    "            'Vínculo Ativo 31/12',\n",
    "            'CBO Ocupação 2002',\n",
    "            'CNAE 2.0 Classe', \n",
    "            'CNAE 2.0 Subclasse',\n",
    "            'Natureza Jurídica',\n",
    "            'Tamanho Estabelecimento', \n",
    "            'Tipo Estab',  \n",
    "            'Tipo Admissão',\n",
    "            'Tipo Vínculo',\n",
    "            'Vl Remun Média Nom',\n",
    "            'Vl Remun Média (SM)' ]]\n",
    "\n",
    "# Filtrar trabalhadores ativos em 31/12\n",
    "df_rais_vinculos_sp = df_rais_vinculos_sp[(df_rais_vinculos_sp['Vínculo Ativo 31/12'] == 1)]\n",
    "\n",
    "## Gera planilha de dados\n",
    "df_rais_vinculos_sp.to_csv('2020/rais_2020/df_rais_vinculos_sp.csv', index=False)\n",
    "\n",
    "## limpeza de memória\n",
    "del df_rais_vinculos_sp\n",
    "gc.collect()"
   ]
  },
  {
   "attachments": {},
   "cell_type": "markdown",
   "id": "17b104ea",
   "metadata": {},
   "source": [
    "### Agregar planilhas rais 2020"
   ]
  },
  {
   "cell_type": "code",
   "execution_count": 4,
   "id": "70df669e",
   "metadata": {},
   "outputs": [
    {
     "name": "stderr",
     "output_type": "stream",
     "text": [
      "C:\\Users\\ebteo\\AppData\\Local\\Temp\\ipykernel_20284\\3933625907.py:1: DtypeWarning: Columns (9) have mixed types. Specify dtype option on import or set low_memory=False.\n",
      "  df_rais_vinculos_2020 = pd.concat(\n",
      "C:\\Users\\ebteo\\AppData\\Local\\Temp\\ipykernel_20284\\3933625907.py:1: DtypeWarning: Columns (9) have mixed types. Specify dtype option on import or set low_memory=False.\n",
      "  df_rais_vinculos_2020 = pd.concat(\n",
      "C:\\Users\\ebteo\\AppData\\Local\\Temp\\ipykernel_20284\\3933625907.py:1: DtypeWarning: Columns (9) have mixed types. Specify dtype option on import or set low_memory=False.\n",
      "  df_rais_vinculos_2020 = pd.concat(\n",
      "C:\\Users\\ebteo\\AppData\\Local\\Temp\\ipykernel_20284\\3933625907.py:1: DtypeWarning: Columns (9) have mixed types. Specify dtype option on import or set low_memory=False.\n",
      "  df_rais_vinculos_2020 = pd.concat(\n",
      "C:\\Users\\ebteo\\AppData\\Local\\Temp\\ipykernel_20284\\3933625907.py:1: DtypeWarning: Columns (9) have mixed types. Specify dtype option on import or set low_memory=False.\n",
      "  df_rais_vinculos_2020 = pd.concat(\n",
      "C:\\Users\\ebteo\\AppData\\Local\\Temp\\ipykernel_20284\\3933625907.py:1: DtypeWarning: Columns (9) have mixed types. Specify dtype option on import or set low_memory=False.\n",
      "  df_rais_vinculos_2020 = pd.concat(\n"
     ]
    }
   ],
   "source": [
    "df_rais_vinculos_2020 = pd.concat(\n",
    "    map(pd.read_csv, glob.glob('2020/rais_2020/df_rais_vinculos_*.csv')),\n",
    "    ignore_index=True\n",
    "    )"
   ]
  },
  {
   "cell_type": "code",
   "execution_count": 5,
   "id": "f0313509",
   "metadata": {},
   "outputs": [],
   "source": [
    "df_rais_vinculos_2020.to_csv('2020/rais_2020/df_rais_total_vinculos_2020.csv', index=False)"
   ]
  },
  {
   "cell_type": "code",
   "execution_count": 6,
   "id": "35f355c0",
   "metadata": {},
   "outputs": [
    {
     "data": {
      "text/plain": [
       "Vínculo Ativo 31/12\n",
       "1    46236176\n",
       "Name: count, dtype: int64"
      ]
     },
     "execution_count": 6,
     "metadata": {},
     "output_type": "execute_result"
    }
   ],
   "source": [
    "df_rais_vinculos_2020['Vínculo Ativo 31/12'].value_counts()"
   ]
  },
  {
   "cell_type": "code",
   "execution_count": 7,
   "id": "ad10c045",
   "metadata": {},
   "outputs": [
    {
     "data": {
      "text/plain": [
       "46236176"
      ]
     },
     "execution_count": 7,
     "metadata": {},
     "output_type": "execute_result"
    }
   ],
   "source": [
    "### Verificar total de registros\n",
    "df_rais_vinculos_2020['Município'].count()"
   ]
  },
  {
   "cell_type": "code",
   "execution_count": null,
   "id": "61de1e31",
   "metadata": {},
   "outputs": [],
   "source": [
    "## limpeza de memória\n",
    "del df_rais_vinculos_2020\n",
    "gc.collect()"
   ]
  }
 ],
 "metadata": {
  "kernelspec": {
   "display_name": "itaurais",
   "language": "python",
   "name": "python3"
  },
  "language_info": {
   "codemirror_mode": {
    "name": "ipython",
    "version": 3
   },
   "file_extension": ".py",
   "mimetype": "text/x-python",
   "name": "python",
   "nbconvert_exporter": "python",
   "pygments_lexer": "ipython3",
   "version": "3.12.2"
  },
  "vscode": {
   "interpreter": {
    "hash": "2dc1fd1d65b2b564e0ac62f5d58c97fc8144b9410a142b92aa13572e128aeb35"
   }
  }
 },
 "nbformat": 4,
 "nbformat_minor": 5
}
