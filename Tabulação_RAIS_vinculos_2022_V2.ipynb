{
 "cells": [
  {
   "cell_type": "code",
   "execution_count": 1,
   "id": "d820bbb8",
   "metadata": {},
   "outputs": [
    {
     "name": "stdout",
     "output_type": "stream",
     "text": [
      "Requirement already satisfied: pandas in c:\\python\\lib\\site-packages (2.2.1)\n",
      "Requirement already satisfied: numpy in c:\\python\\lib\\site-packages (1.26.4)\n",
      "Requirement already satisfied: python-dateutil>=2.8.2 in c:\\users\\ebteo\\appdata\\roaming\\python\\python312\\site-packages (from pandas) (2.9.0.post0)\n",
      "Requirement already satisfied: pytz>=2020.1 in c:\\python\\lib\\site-packages (from pandas) (2024.1)\n",
      "Requirement already satisfied: tzdata>=2022.7 in c:\\python\\lib\\site-packages (from pandas) (2024.1)\n",
      "Requirement already satisfied: six>=1.5 in c:\\users\\ebteo\\appdata\\roaming\\python\\python312\\site-packages (from python-dateutil>=2.8.2->pandas) (1.16.0)\n"
     ]
    }
   ],
   "source": [
    "!pip install pandas numpy"
   ]
  },
  {
   "cell_type": "code",
   "execution_count": 2,
   "id": "b1a4d8c1",
   "metadata": {
    "tags": []
   },
   "outputs": [],
   "source": [
    "#instalação dos componetes\n",
    "import pandas as pd\n",
    "import numpy as np\n",
    "import os\n",
    "import glob\n",
    "import re\n",
    "import gc\n",
    "\n",
    "# configurando o pandas para não mostrar a notação científica para números\n",
    "pd.set_option('display.float_format', lambda x: '%.4f' % x)"
   ]
  },
  {
   "cell_type": "code",
   "execution_count": 3,
   "id": "3acf2c13",
   "metadata": {
    "tags": []
   },
   "outputs": [],
   "source": [
    "# configurando para mostrar todas as colunas   \n",
    "pd.set_option('display.max_columns', None)\n",
    "pd.set_option('max_colwidth', None)"
   ]
  },
  {
   "cell_type": "markdown",
   "id": "4341e41a",
   "metadata": {},
   "source": [
    "## Tratamento de dados Rais"
   ]
  },
  {
   "cell_type": "markdown",
   "id": "67b9b9e5",
   "metadata": {},
   "source": [
    "#### Importar e agregar dados RAIS 2022"
   ]
  },
  {
   "cell_type": "code",
   "execution_count": 4,
   "id": "517df0a3",
   "metadata": {},
   "outputs": [],
   "source": [
    "# ## Seleção de colunas para importação. \n",
    "cols_name = [ 'Município',\n",
    "            'Nacionalidade',\n",
    "            'Raça Cor',\n",
    "            'Sexo Trabalhador',\n",
    "            'Idade',\n",
    "            'Faixa Etária',\n",
    "            'Escolaridade após 2005',\n",
    "            'Vínculo Ativo 31/12',\n",
    "            'Vl Remun Média Nom', \n",
    "            'Vl Remun Média (SM)',\n",
    "            'CBO Ocupação 2002',\n",
    "            'CNAE 2.0 Classe',\n",
    "            'CNAE 2.0 Subclasse',\n",
    "            'Natureza Jurídica',\n",
    "            'Tamanho Estabelecimento',\n",
    "            'Tipo Estab',\n",
    "            'Tipo Vínculo',\n",
    "            'Tipo Admissão'\n",
    "]"
   ]
  },
  {
   "cell_type": "markdown",
   "id": "cab5d5ae",
   "metadata": {},
   "source": [
    "#### Import SUL"
   ]
  },
  {
   "cell_type": "code",
   "execution_count": 5,
   "id": "002c8c94",
   "metadata": {},
   "outputs": [
    {
     "name": "stderr",
     "output_type": "stream",
     "text": [
      "C:\\Users\\ebteo\\AppData\\Local\\Temp\\ipykernel_22840\\1845124636.py:2: DtypeWarning: Columns (26) have mixed types. Specify dtype option on import or set low_memory=False.\n",
      "  df_rais_vinculos_sul = pd.read_csv('2022/RAIS_VINC_PUB_SUL.txt', sep=';' , encoding='latin-1', decimal=',', usecols = cols_name)\n"
     ]
    },
    {
     "data": {
      "text/plain": [
       "0"
      ]
     },
     "execution_count": 5,
     "metadata": {},
     "output_type": "execute_result"
    }
   ],
   "source": [
    "# importando dados rais\n",
    "df_rais_vinculos_sul = pd.read_csv('2022/RAIS_VINC_PUB_SUL.txt', sep=';' , encoding='latin-1', decimal=',', usecols = cols_name)\n",
    "\n",
    "## Cria coluna ano\n",
    "df_rais_vinculos_sul['ano'] = 2022\n",
    "\n",
    "# # Reorganizado posição das colunas. \n",
    "df_rais_vinculos_sul = df_rais_vinculos_sul[[\n",
    "            'ano',\n",
    "            'Município',\n",
    "            'Nacionalidade',\n",
    "            'Raça Cor',\n",
    "            'Sexo Trabalhador',\n",
    "            'Idade',\n",
    "            'Faixa Etária',\n",
    "            'Escolaridade após 2005',\n",
    "            'Vínculo Ativo 31/12',\n",
    "            'CBO Ocupação 2002',\n",
    "            'CNAE 2.0 Classe', \n",
    "            'CNAE 2.0 Subclasse',\n",
    "            'Natureza Jurídica',\n",
    "            'Tamanho Estabelecimento', \n",
    "            'Tipo Estab',  \n",
    "            'Tipo Admissão',\n",
    "            'Tipo Vínculo',\n",
    "            'Vl Remun Média Nom',\n",
    "            'Vl Remun Média (SM)' ]]\n",
    "\n",
    "# Filtrar trabalhadores ativos em 31/12\n",
    "df_rais_vinculos_sul = df_rais_vinculos_sul[(df_rais_vinculos_sul['Vínculo Ativo 31/12'] == 1)]\n",
    "\n",
    "## Gera planilha de dados\n",
    "df_rais_vinculos_sul.to_csv('2022/rais_2022/df_rais_vinculos_sul.csv', index=False)\n",
    "\n",
    "## limpeza de memória\n",
    "del df_rais_vinculos_sul\n",
    "gc.collect()"
   ]
  },
  {
   "cell_type": "markdown",
   "id": "170d15d6",
   "metadata": {},
   "source": [
    "#### Import Nordeste"
   ]
  },
  {
   "cell_type": "code",
   "execution_count": 6,
   "id": "96fbf6bc",
   "metadata": {},
   "outputs": [
    {
     "name": "stderr",
     "output_type": "stream",
     "text": [
      "C:\\Users\\ebteo\\AppData\\Local\\Temp\\ipykernel_3500\\4286659792.py:2: DtypeWarning: Columns (26) have mixed types. Specify dtype option on import or set low_memory=False.\n",
      "  df_rais_vinculos_nordeste = pd.read_csv('2022/RAIS_VINC_PUB_NORDESTE.txt', sep=';' , encoding='latin-1', decimal=',', usecols = cols_name)\n"
     ]
    },
    {
     "data": {
      "text/plain": [
       "0"
      ]
     },
     "execution_count": 6,
     "metadata": {},
     "output_type": "execute_result"
    }
   ],
   "source": [
    "# importando dados rais\n",
    "df_rais_vinculos_nordeste = pd.read_csv('2022/RAIS_VINC_PUB_NORDESTE.txt', sep=';' , encoding='latin-1', decimal=',', usecols = cols_name)\n",
    "\n",
    "## Cria coluna ano\n",
    "df_rais_vinculos_nordeste['ano'] = 2022\n",
    "\n",
    "## Reorganizado posição das colunas. \n",
    "df_rais_vinculos_nordeste = df_rais_vinculos_nordeste[[\n",
    "            'ano',\n",
    "            'Município',\n",
    "            'Nacionalidade',\n",
    "            'Raça Cor',\n",
    "            'Sexo Trabalhador',\n",
    "            'Idade',\n",
    "            'Faixa Etária',\n",
    "            'Escolaridade após 2005',\n",
    "            'Vínculo Ativo 31/12',\n",
    "            'CBO Ocupação 2002',\n",
    "            'CNAE 2.0 Classe', \n",
    "            'CNAE 2.0 Subclasse',\n",
    "            'Natureza Jurídica',\n",
    "            'Tamanho Estabelecimento', \n",
    "            'Tipo Estab',  \n",
    "            'Tipo Admissão',\n",
    "            'Tipo Vínculo',\n",
    "            'Vl Remun Média Nom',\n",
    "            'Vl Remun Média (SM)' ]]\n",
    "\n",
    "# Filtrar trabalhadores ativos em 31/12\n",
    "df_rais_vinculos_nordeste = df_rais_vinculos_nordeste[(df_rais_vinculos_nordeste['Vínculo Ativo 31/12'] == 1)]\n",
    "\n",
    "## Gera planilha de dados\n",
    "df_rais_vinculos_nordeste.to_csv('2022/rais_2022/df_rais_vinculos_nordeste.csv', index=False)\n",
    "\n",
    "## limpeza de memória\n",
    "del df_rais_vinculos_nordeste\n",
    "gc.collect()"
   ]
  },
  {
   "cell_type": "markdown",
   "id": "7d9bf2d2",
   "metadata": {},
   "source": [
    "#### Import NORTE"
   ]
  },
  {
   "cell_type": "code",
   "execution_count": 6,
   "id": "46246276",
   "metadata": {},
   "outputs": [
    {
     "name": "stderr",
     "output_type": "stream",
     "text": [
      "C:\\Users\\ebteo\\AppData\\Local\\Temp\\ipykernel_3716\\2150414202.py:2: DtypeWarning: Columns (7) have mixed types. Specify dtype option on import or set low_memory=False.\n",
      "  df_rais_vinculos_norte = pd.read_csv('2021/RAIS_VINC_PUB_NORTE.txt', sep=';' , encoding='latin-1', decimal=',', usecols = cols_name)\n"
     ]
    },
    {
     "data": {
      "text/plain": [
       "0"
      ]
     },
     "execution_count": 6,
     "metadata": {},
     "output_type": "execute_result"
    }
   ],
   "source": [
    "# importando dados rais\n",
    "df_rais_vinculos_norte = pd.read_csv('2022/RAIS_VINC_PUB_NORTE.txt', sep=';' , encoding='latin-1', decimal=',', usecols = cols_name)\n",
    "\n",
    "## Cria coluna ano\n",
    "df_rais_vinculos_norte['ano'] = 2022\n",
    "\n",
    "## Reorganizado posição das colunas. \n",
    "df_rais_vinculos_norte = df_rais_vinculos_norte[[\n",
    "            'ano',\n",
    "            'Município',\n",
    "            'Nacionalidade',\n",
    "            'Raça Cor',\n",
    "            'Sexo Trabalhador',\n",
    "            'Idade',\n",
    "            'Faixa Etária',\n",
    "            'Escolaridade após 2005',\n",
    "            'Vínculo Ativo 31/12',\n",
    "            'CBO Ocupação 2002',\n",
    "            'CNAE 2.0 Classe', \n",
    "            'CNAE 2.0 Subclasse',\n",
    "            'Natureza Jurídica',\n",
    "            'Tamanho Estabelecimento', \n",
    "            'Tipo Estab',  \n",
    "            'Tipo Admissão',\n",
    "            'Tipo Vínculo',\n",
    "            'Vl Remun Média Nom',\n",
    "            'Vl Remun Média (SM)' ]]\n",
    "\n",
    "# Filtrar trabalhadores ativos em 31/12\n",
    "df_rais_vinculos_norte = df_rais_vinculos_norte[(df_rais_vinculos_norte['Vínculo Ativo 31/12'] == 1)]\n",
    "\n",
    "## Gera planilha de dados\n",
    "df_rais_vinculos_norte.to_csv('2022/rais_2022/df_rais_vinculos_norte.csv', index=False)\n",
    "\n",
    "## limpeza de memória\n",
    "del df_rais_vinculos_norte\n",
    "gc.collect()"
   ]
  },
  {
   "cell_type": "markdown",
   "id": "00d75f31",
   "metadata": {},
   "source": [
    "#### Import MG, ES e RJ. "
   ]
  },
  {
   "cell_type": "code",
   "execution_count": 16,
   "id": "4f9f84d3",
   "metadata": {},
   "outputs": [
    {
     "name": "stderr",
     "output_type": "stream",
     "text": [
      "C:\\Users\\ebteo\\AppData\\Local\\Temp\\ipykernel_3500\\4002569126.py:2: DtypeWarning: Columns (26) have mixed types. Specify dtype option on import or set low_memory=False.\n",
      "  df_rais_vinculos_mg_es_rj = pd.read_csv('2022/RAIS_VINC_PUB_MG_ES_RJ.txt', sep=';' , encoding='latin-1', decimal=',', usecols = cols_name)\n"
     ]
    },
    {
     "data": {
      "text/plain": [
       "0"
      ]
     },
     "execution_count": 16,
     "metadata": {},
     "output_type": "execute_result"
    }
   ],
   "source": [
    "# importando dados rais\n",
    "df_rais_vinculos_mg_es_rj = pd.read_csv('2022/RAIS_VINC_PUB_MG_ES_RJ.txt', sep=';' , encoding='latin-1', decimal=',', usecols = cols_name)\n",
    "\n",
    "## Cria coluna ano\n",
    "df_rais_vinculos_mg_es_rj['ano'] = 2022\n",
    "\n",
    "## Reorganizado posição das colunas. \n",
    "df_rais_vinculos_mg_es_rj = df_rais_vinculos_mg_es_rj[[\n",
    "            'ano',\n",
    "            'Município',\n",
    "            'Nacionalidade',\n",
    "            'Raça Cor',\n",
    "            'Sexo Trabalhador',\n",
    "            'Idade',\n",
    "            'Faixa Etária',\n",
    "            'Escolaridade após 2005',\n",
    "            'Vínculo Ativo 31/12',\n",
    "            'CBO Ocupação 2002',\n",
    "            'CNAE 2.0 Classe', \n",
    "            'CNAE 2.0 Subclasse',\n",
    "            'Natureza Jurídica',\n",
    "            'Tamanho Estabelecimento', \n",
    "            'Tipo Estab',  \n",
    "            'Tipo Admissão',\n",
    "            'Tipo Vínculo',\n",
    "            'Vl Remun Média Nom',\n",
    "            'Vl Remun Média (SM)' ]]\n",
    "\n",
    "# Filtrar trabalhadores ativos em 31/12\n",
    "df_rais_vinculos_mg_es_rj = df_rais_vinculos_mg_es_rj[(df_rais_vinculos_mg_es_rj['Vínculo Ativo 31/12'] == 1)]\n",
    "\n",
    "## Gera planilha de dados\n",
    "df_rais_vinculos_mg_es_rj.to_csv('2022/rais_2022/df_rais_vinculos_mg_es_rj.csv', index=False)\n",
    "\n",
    "## limpeza de memória\n",
    "del df_rais_vinculos_mg_es_rj\n",
    "gc.collect()"
   ]
  },
  {
   "cell_type": "markdown",
   "id": "99419d4b",
   "metadata": {},
   "source": [
    "#### Import CENTRO_OESTE."
   ]
  },
  {
   "cell_type": "code",
   "execution_count": 7,
   "id": "f313173a",
   "metadata": {},
   "outputs": [
    {
     "name": "stderr",
     "output_type": "stream",
     "text": [
      "C:\\Users\\ebteo\\AppData\\Local\\Temp\\ipykernel_3500\\2709365922.py:2: DtypeWarning: Columns (26) have mixed types. Specify dtype option on import or set low_memory=False.\n",
      "  df_rais_vinculos_centro_oeste = pd.read_csv('2022/RAIS_VINC_PUB_CENTRO_OESTE.txt', sep=';' , encoding='latin-1', decimal=',', usecols = cols_name)\n"
     ]
    },
    {
     "data": {
      "text/plain": [
       "0"
      ]
     },
     "execution_count": 7,
     "metadata": {},
     "output_type": "execute_result"
    }
   ],
   "source": [
    "# importando dados rais\n",
    "df_rais_vinculos_centro_oeste = pd.read_csv('2022/RAIS_VINC_PUB_CENTRO_OESTE.txt', sep=';' , encoding='latin-1', decimal=',', usecols = cols_name)\n",
    "\n",
    "## Cria coluna ano\n",
    "df_rais_vinculos_centro_oeste['ano'] = 2022\n",
    "\n",
    "# # Reorganizado posição das colunas. \n",
    "df_rais_vinculos_centro_oeste = df_rais_vinculos_centro_oeste[[\n",
    "            'ano',\n",
    "            'Município',\n",
    "            'Nacionalidade',\n",
    "            'Raça Cor',\n",
    "            'Sexo Trabalhador',\n",
    "            'Idade',\n",
    "            'Faixa Etária',\n",
    "            'Escolaridade após 2005',\n",
    "            'Vínculo Ativo 31/12',\n",
    "            'CBO Ocupação 2002',\n",
    "            'CNAE 2.0 Classe', \n",
    "            'CNAE 2.0 Subclasse',\n",
    "            'Natureza Jurídica',\n",
    "            'Tamanho Estabelecimento', \n",
    "            'Tipo Estab',  \n",
    "            'Tipo Admissão',\n",
    "            'Tipo Vínculo',\n",
    "            'Vl Remun Média Nom',\n",
    "            'Vl Remun Média (SM)' ]]\n",
    "\n",
    "# Filtrar trabalhadores ativos em 31/12\n",
    "df_rais_vinculos_centro_oeste = df_rais_vinculos_centro_oeste[(df_rais_vinculos_centro_oeste['Vínculo Ativo 31/12'] == 1)]\n",
    "\n",
    "## Gera planilha de dados\n",
    "df_rais_vinculos_centro_oeste.to_csv('2022/rais_2022/df_rais_vinculos_centro_oeste.csv', index=False)\n",
    "\n",
    "## limpeza de memória\n",
    "del df_rais_vinculos_centro_oeste\n",
    "gc.collect()"
   ]
  },
  {
   "cell_type": "markdown",
   "id": "cfb06a0e",
   "metadata": {},
   "source": [
    "#### Import SP."
   ]
  },
  {
   "cell_type": "code",
   "execution_count": 6,
   "id": "7fc83d52",
   "metadata": {},
   "outputs": [
    {
     "name": "stderr",
     "output_type": "stream",
     "text": [
      "C:\\Users\\ebteo\\AppData\\Local\\Temp\\ipykernel_22840\\4277143560.py:2: DtypeWarning: Columns (26) have mixed types. Specify dtype option on import or set low_memory=False.\n",
      "  df_rais_vinculos_sp = pd.read_csv('2022/RAIS_VINC_PUB_SP.txt', sep=';' , encoding='latin-1', decimal=',', usecols = cols_name)\n"
     ]
    }
   ],
   "source": [
    "# importando dados rais\n",
    "df_rais_vinculos_sp = pd.read_csv('2022/RAIS_VINC_PUB_SP.txt', sep=';' , encoding='latin-1', decimal=',', usecols = cols_name)\n",
    "\n",
    "## Cria coluna ano\n",
    "df_rais_vinculos_sp['ano'] = 2022\n",
    "\n",
    "# # Reorganizado posição das colunas. \n",
    "df_rais_vinculos_sp = df_rais_vinculos_sp[[\n",
    "            'ano',\n",
    "            'Município',\n",
    "            'Nacionalidade',\n",
    "            'Raça Cor',\n",
    "            'Sexo Trabalhador',\n",
    "            'Idade',\n",
    "            'Faixa Etária',\n",
    "            'Escolaridade após 2005',\n",
    "            'Vínculo Ativo 31/12',\n",
    "            'CBO Ocupação 2002',\n",
    "            'CNAE 2.0 Classe', \n",
    "            'CNAE 2.0 Subclasse',\n",
    "            'Natureza Jurídica',\n",
    "            'Tamanho Estabelecimento', \n",
    "            'Tipo Estab',  \n",
    "            'Tipo Admissão',\n",
    "            'Tipo Vínculo',\n",
    "            'Vl Remun Média Nom',\n",
    "            'Vl Remun Média (SM)' ]]\n",
    "\n",
    "# Filtrar trabalhadores ativos em 31/12\n",
    "df_rais_vinculos_sp = df_rais_vinculos_sp[(df_rais_vinculos_sp['Vínculo Ativo 31/12'] == 1)]\n",
    "\n",
    "## Gera planilha de dados\n",
    "df_rais_vinculos_sp.to_csv('2022/rais_2022/df_rais_vinculos_sp.csv', index=False)\n",
    "\n"
   ]
  },
  {
   "cell_type": "code",
   "execution_count": 9,
   "id": "fc5a4436",
   "metadata": {},
   "outputs": [
    {
     "data": {
      "text/plain": [
       "0"
      ]
     },
     "execution_count": 9,
     "metadata": {},
     "output_type": "execute_result"
    }
   ],
   "source": [
    "## limpeza de memória\n",
    "del df_rais_vinculos_sp\n",
    "gc.collect()"
   ]
  },
  {
   "cell_type": "markdown",
   "id": "036b29cb",
   "metadata": {},
   "source": [
    "Import NI"
   ]
  },
  {
   "cell_type": "code",
   "execution_count": 10,
   "id": "e04fad4c",
   "metadata": {},
   "outputs": [],
   "source": [
    "# importando dados rais\n",
    "df_rais_vinculos_ni = pd.read_csv('2022/RAIS_VINC_PUB_NI.txt', sep=';' , encoding='latin-1', decimal=',', usecols = cols_name)\n",
    "\n",
    "## Cria coluna ano\n",
    "df_rais_vinculos_ni['ano'] = 2022\n",
    "\n",
    "# # Reorganizado posição das colunas. \n",
    "df_rais_vinculos_ni = df_rais_vinculos_ni[[\n",
    "            'ano',\n",
    "            'Município',\n",
    "            'Nacionalidade',\n",
    "            'Raça Cor',\n",
    "            'Sexo Trabalhador',\n",
    "            'Idade',\n",
    "            'Faixa Etária',\n",
    "            'Escolaridade após 2005',\n",
    "            'Vínculo Ativo 31/12',\n",
    "            'CBO Ocupação 2002',\n",
    "            'CNAE 2.0 Classe', \n",
    "            'CNAE 2.0 Subclasse',\n",
    "            'Natureza Jurídica',\n",
    "            'Tamanho Estabelecimento', \n",
    "            'Tipo Estab',  \n",
    "            'Tipo Admissão',\n",
    "            'Tipo Vínculo',\n",
    "            'Vl Remun Média Nom',\n",
    "            'Vl Remun Média (SM)' ]]\n",
    "\n",
    "# Filtrar trabalhadores ativos em 31/12\n",
    "df_rais_vinculos_ni = df_rais_vinculos_ni[(df_rais_vinculos_ni['Vínculo Ativo 31/12'] == 1)]\n",
    "\n",
    "## Gera planilha de dados\n",
    "df_rais_vinculos_ni.to_csv('2022/rais_2022/df_rais_vinculos_ni.csv', index=False)"
   ]
  },
  {
   "cell_type": "code",
   "execution_count": 13,
   "id": "c91e0bd6",
   "metadata": {},
   "outputs": [
    {
     "data": {
      "text/html": [
       "<div>\n",
       "<style scoped>\n",
       "    .dataframe tbody tr th:only-of-type {\n",
       "        vertical-align: middle;\n",
       "    }\n",
       "\n",
       "    .dataframe tbody tr th {\n",
       "        vertical-align: top;\n",
       "    }\n",
       "\n",
       "    .dataframe thead th {\n",
       "        text-align: right;\n",
       "    }\n",
       "</style>\n",
       "<table border=\"1\" class=\"dataframe\">\n",
       "  <thead>\n",
       "    <tr style=\"text-align: right;\">\n",
       "      <th></th>\n",
       "      <th>ano</th>\n",
       "      <th>Município</th>\n",
       "      <th>Nacionalidade</th>\n",
       "      <th>Raça Cor</th>\n",
       "      <th>Sexo Trabalhador</th>\n",
       "      <th>Idade</th>\n",
       "      <th>Faixa Etária</th>\n",
       "      <th>Escolaridade após 2005</th>\n",
       "      <th>Vínculo Ativo 31/12</th>\n",
       "      <th>CBO Ocupação 2002</th>\n",
       "      <th>CNAE 2.0 Classe</th>\n",
       "      <th>CNAE 2.0 Subclasse</th>\n",
       "      <th>Natureza Jurídica</th>\n",
       "      <th>Tamanho Estabelecimento</th>\n",
       "      <th>Tipo Estab</th>\n",
       "      <th>Tipo Admissão</th>\n",
       "      <th>Tipo Vínculo</th>\n",
       "      <th>Vl Remun Média Nom</th>\n",
       "      <th>Vl Remun Média (SM)</th>\n",
       "    </tr>\n",
       "  </thead>\n",
       "  <tbody>\n",
       "    <tr>\n",
       "      <th>413</th>\n",
       "      <td>2022</td>\n",
       "      <td>999999</td>\n",
       "      <td>10</td>\n",
       "      <td>8</td>\n",
       "      <td>1</td>\n",
       "      <td>50</td>\n",
       "      <td>7</td>\n",
       "      <td>1</td>\n",
       "      <td>1</td>\n",
       "      <td>717020</td>\n",
       "      <td>41204</td>\n",
       "      <td>4120400</td>\n",
       "      <td>2062</td>\n",
       "      <td>3</td>\n",
       "      <td>1</td>\n",
       "      <td>0</td>\n",
       "      <td>10</td>\n",
       "      <td>0.0000</td>\n",
       "      <td>0.0000</td>\n",
       "    </tr>\n",
       "    <tr>\n",
       "      <th>414</th>\n",
       "      <td>2022</td>\n",
       "      <td>999999</td>\n",
       "      <td>10</td>\n",
       "      <td>8</td>\n",
       "      <td>1</td>\n",
       "      <td>51</td>\n",
       "      <td>7</td>\n",
       "      <td>1</td>\n",
       "      <td>1</td>\n",
       "      <td>715210</td>\n",
       "      <td>81125</td>\n",
       "      <td>8112500</td>\n",
       "      <td>3085</td>\n",
       "      <td>2</td>\n",
       "      <td>1</td>\n",
       "      <td>2</td>\n",
       "      <td>10</td>\n",
       "      <td>1567.8300</td>\n",
       "      <td>1.2900</td>\n",
       "    </tr>\n",
       "    <tr>\n",
       "      <th>415</th>\n",
       "      <td>2022</td>\n",
       "      <td>999999</td>\n",
       "      <td>10</td>\n",
       "      <td>9</td>\n",
       "      <td>1</td>\n",
       "      <td>35</td>\n",
       "      <td>5</td>\n",
       "      <td>1</td>\n",
       "      <td>1</td>\n",
       "      <td>715210</td>\n",
       "      <td>41204</td>\n",
       "      <td>4120400</td>\n",
       "      <td>9999</td>\n",
       "      <td>3</td>\n",
       "      <td>6</td>\n",
       "      <td>2</td>\n",
       "      <td>10</td>\n",
       "      <td>1247.8800</td>\n",
       "      <td>1.0200</td>\n",
       "    </tr>\n",
       "    <tr>\n",
       "      <th>416</th>\n",
       "      <td>2022</td>\n",
       "      <td>999999</td>\n",
       "      <td>10</td>\n",
       "      <td>2</td>\n",
       "      <td>1</td>\n",
       "      <td>36</td>\n",
       "      <td>5</td>\n",
       "      <td>1</td>\n",
       "      <td>1</td>\n",
       "      <td>717020</td>\n",
       "      <td>42227</td>\n",
       "      <td>4222701</td>\n",
       "      <td>9999</td>\n",
       "      <td>4</td>\n",
       "      <td>6</td>\n",
       "      <td>2</td>\n",
       "      <td>10</td>\n",
       "      <td>1268.6300</td>\n",
       "      <td>1.0400</td>\n",
       "    </tr>\n",
       "    <tr>\n",
       "      <th>417</th>\n",
       "      <td>2022</td>\n",
       "      <td>999999</td>\n",
       "      <td>10</td>\n",
       "      <td>2</td>\n",
       "      <td>1</td>\n",
       "      <td>39</td>\n",
       "      <td>5</td>\n",
       "      <td>2</td>\n",
       "      <td>1</td>\n",
       "      <td>514120</td>\n",
       "      <td>94308</td>\n",
       "      <td>9430800</td>\n",
       "      <td>3999</td>\n",
       "      <td>2</td>\n",
       "      <td>1</td>\n",
       "      <td>0</td>\n",
       "      <td>10</td>\n",
       "      <td>1913.7300</td>\n",
       "      <td>1.5700</td>\n",
       "    </tr>\n",
       "  </tbody>\n",
       "</table>\n",
       "</div>"
      ],
      "text/plain": [
       "      ano  Município  Nacionalidade  Raça Cor  Sexo Trabalhador  Idade  \\\n",
       "413  2022     999999             10         8                 1     50   \n",
       "414  2022     999999             10         8                 1     51   \n",
       "415  2022     999999             10         9                 1     35   \n",
       "416  2022     999999             10         2                 1     36   \n",
       "417  2022     999999             10         2                 1     39   \n",
       "\n",
       "     Faixa Etária  Escolaridade após 2005  Vínculo Ativo 31/12  \\\n",
       "413             7                       1                    1   \n",
       "414             7                       1                    1   \n",
       "415             5                       1                    1   \n",
       "416             5                       1                    1   \n",
       "417             5                       2                    1   \n",
       "\n",
       "     CBO Ocupação 2002  CNAE 2.0 Classe  CNAE 2.0 Subclasse  \\\n",
       "413             717020            41204             4120400   \n",
       "414             715210            81125             8112500   \n",
       "415             715210            41204             4120400   \n",
       "416             717020            42227             4222701   \n",
       "417             514120            94308             9430800   \n",
       "\n",
       "     Natureza Jurídica  Tamanho Estabelecimento  Tipo Estab  Tipo Admissão  \\\n",
       "413               2062                        3           1              0   \n",
       "414               3085                        2           1              2   \n",
       "415               9999                        3           6              2   \n",
       "416               9999                        4           6              2   \n",
       "417               3999                        2           1              0   \n",
       "\n",
       "     Tipo Vínculo  Vl Remun Média Nom  Vl Remun Média (SM)  \n",
       "413            10              0.0000               0.0000  \n",
       "414            10           1567.8300               1.2900  \n",
       "415            10           1247.8800               1.0200  \n",
       "416            10           1268.6300               1.0400  \n",
       "417            10           1913.7300               1.5700  "
      ]
     },
     "execution_count": 13,
     "metadata": {},
     "output_type": "execute_result"
    }
   ],
   "source": [
    "df_rais_vinculos_ni.head()"
   ]
  },
  {
   "cell_type": "markdown",
   "id": "17b104ea",
   "metadata": {},
   "source": [
    "### Agregar planilhas rais 2022"
   ]
  },
  {
   "cell_type": "code",
   "execution_count": 11,
   "id": "70df669e",
   "metadata": {},
   "outputs": [
    {
     "name": "stderr",
     "output_type": "stream",
     "text": [
      "C:\\Users\\ebteo\\AppData\\Local\\Temp\\ipykernel_22840\\1461894561.py:2: DtypeWarning: Columns (2) have mixed types. Specify dtype option on import or set low_memory=False.\n",
      "  df_rais_vinculos_2022 = pd.concat(\n",
      "C:\\Users\\ebteo\\AppData\\Local\\Temp\\ipykernel_22840\\1461894561.py:2: DtypeWarning: Columns (2) have mixed types. Specify dtype option on import or set low_memory=False.\n",
      "  df_rais_vinculos_2022 = pd.concat(\n",
      "C:\\Users\\ebteo\\AppData\\Local\\Temp\\ipykernel_22840\\1461894561.py:2: DtypeWarning: Columns (2) have mixed types. Specify dtype option on import or set low_memory=False.\n",
      "  df_rais_vinculos_2022 = pd.concat(\n",
      "C:\\Users\\ebteo\\AppData\\Local\\Temp\\ipykernel_22840\\1461894561.py:2: DtypeWarning: Columns (2) have mixed types. Specify dtype option on import or set low_memory=False.\n",
      "  df_rais_vinculos_2022 = pd.concat(\n",
      "C:\\Users\\ebteo\\AppData\\Local\\Temp\\ipykernel_22840\\1461894561.py:2: DtypeWarning: Columns (2) have mixed types. Specify dtype option on import or set low_memory=False.\n",
      "  df_rais_vinculos_2022 = pd.concat(\n"
     ]
    }
   ],
   "source": [
    "## Agrupar planilhas tratadas\n",
    "df_rais_vinculos_2022 = pd.concat(\n",
    "    map(pd.read_csv, glob.glob('2022/rais_2022/df_rais_vinculos_*.csv')),\n",
    "    ignore_index=True)"
   ]
  },
  {
   "cell_type": "code",
   "execution_count": 12,
   "id": "25c5b286",
   "metadata": {},
   "outputs": [
    {
     "data": {
      "text/plain": [
       "49672427"
      ]
     },
     "execution_count": 12,
     "metadata": {},
     "output_type": "execute_result"
    }
   ],
   "source": [
    "### Verificar total de registros\n",
    "df_rais_vinculos_2022['Município'].count()"
   ]
  },
  {
   "cell_type": "code",
   "execution_count": 14,
   "id": "f0313509",
   "metadata": {},
   "outputs": [],
   "source": [
    "df_rais_vinculos_2022.to_csv('2022/rais_2022/df_rais_total_vinculos_2022.csv', index=False)"
   ]
  },
  {
   "cell_type": "code",
   "execution_count": 15,
   "id": "ad10c045",
   "metadata": {},
   "outputs": [
    {
     "data": {
      "text/plain": [
       "0"
      ]
     },
     "execution_count": 15,
     "metadata": {},
     "output_type": "execute_result"
    }
   ],
   "source": [
    "## limpeza de memória\n",
    "del df_rais_vinculos_2022\n",
    "gc.collect()"
   ]
  }
 ],
 "metadata": {
  "kernelspec": {
   "display_name": "Python 3 (ipykernel)",
   "language": "python",
   "name": "python3"
  },
  "language_info": {
   "codemirror_mode": {
    "name": "ipython",
    "version": 3
   },
   "file_extension": ".py",
   "mimetype": "text/x-python",
   "name": "python",
   "nbconvert_exporter": "python",
   "pygments_lexer": "ipython3",
   "version": "3.12.2"
  },
  "vscode": {
   "interpreter": {
    "hash": "2dc1fd1d65b2b564e0ac62f5d58c97fc8144b9410a142b92aa13572e128aeb35"
   }
  }
 },
 "nbformat": 4,
 "nbformat_minor": 5
}
