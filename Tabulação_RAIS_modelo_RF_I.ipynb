{
 "cells": [
  {
   "cell_type": "markdown",
   "metadata": {},
   "source": [
    "#### Análise e implementação modelo Random Forest Regressor"
   ]
  },
  {
   "cell_type": "code",
   "execution_count": 1,
   "metadata": {},
   "outputs": [],
   "source": [
    "#instalação dos componetes\n",
    "import pandas as pd\n",
    "import numpy as np\n",
    "import matplotlib.pyplot as plt #biblioteca utilizada para construção de gráficos\n",
    "import seaborn as sns #biblioteca utilizada para o plot dos gráficos de forma mais \"bonita\"\n"
   ]
  },
  {
   "cell_type": "code",
   "execution_count": 2,
   "metadata": {},
   "outputs": [],
   "source": [
    "# importando dados rais binarizado\n",
    "df_vc_jovens_ql_bn = pd.read_csv('dados_rais/dados_rais_jovens_ql.csv', sep =',', encoding='utf-8')"
   ]
  },
  {
   "cell_type": "code",
   "execution_count": 3,
   "metadata": {},
   "outputs": [
    {
     "data": {
      "text/plain": [
       "Index(['ano', 'uf', 'municipio', 'cnae_20_divisao', 'raca_cor_1', 'raca_cor_2',\n",
       "       'raca_cor_4', 'raca_cor_6', 'raca_cor_8', 'raca_cor_9', 'raca_cor_99',\n",
       "       'sexo_trabalhador_1', 'sexo_trabalhador_2', 'sexo_trabalhador_9',\n",
       "       'escolaridade_apos_2005_1', 'escolaridade_apos_2005_2',\n",
       "       'escolaridade_apos_2005_3', 'escolaridade_apos_2005_4',\n",
       "       'escolaridade_apos_2005_5', 'escolaridade_apos_2005_6',\n",
       "       'escolaridade_apos_2005_7', 'escolaridade_apos_2005_8',\n",
       "       'escolaridade_apos_2005_9', 'escolaridade_apos_2005_10',\n",
       "       'escolaridade_apos_2005_11', 'escolaridade_apos_2005_99',\n",
       "       'vl_remun_media_nom', 'faixa_etaria_2', 'faixa_etaria_3',\n",
       "       'faixa_etaria_4', 'tipo_vinculo_10', 'tipo_vinculo_15',\n",
       "       'tipo_vinculo_20', 'tipo_vinculo_25', 'tipo_vinculo_30',\n",
       "       'tipo_vinculo_31', 'tipo_vinculo_35', 'tipo_vinculo_40',\n",
       "       'tipo_vinculo_50', 'tipo_vinculo_55', 'tipo_vinculo_60',\n",
       "       'tipo_vinculo_65', 'tipo_vinculo_70', 'tipo_vinculo_75',\n",
       "       'tipo_vinculo_80', 'tipo_vinculo_90', 'tipo_vinculo_95',\n",
       "       'tipo_vinculo_96', 'tipo_vinculo_97', 'tamanho_estabelecimento_2',\n",
       "       'tamanho_estabelecimento_3', 'tamanho_estabelecimento_4',\n",
       "       'tamanho_estabelecimento_5', 'tamanho_estabelecimento_6',\n",
       "       'tamanho_estabelecimento_7', 'tamanho_estabelecimento_8',\n",
       "       'tamanho_estabelecimento_9', 'tamanho_estabelecimento_10',\n",
       "       'qt_vc_divisao_munic', 'qt_vc_uf', 'qt_vc_munic', 'qt_vc_divisao_uf',\n",
       "       'quociente_locacional', 'classificacao_ql'],\n",
       "      dtype='object')"
      ]
     },
     "execution_count": 3,
     "metadata": {},
     "output_type": "execute_result"
    }
   ],
   "source": [
    "df_vc_jovens_ql_bn.columns"
   ]
  },
  {
   "cell_type": "code",
   "execution_count": 4,
   "metadata": {},
   "outputs": [
    {
     "data": {
      "text/plain": [
       "(663677, 64)"
      ]
     },
     "execution_count": 4,
     "metadata": {},
     "output_type": "execute_result"
    }
   ],
   "source": [
    "df_vc_jovens_ql_bn.shape"
   ]
  },
  {
   "cell_type": "markdown",
   "metadata": {},
   "source": [
    "Análise Geral: \\\n",
    "QL ≤ 0,49 localização fraca = 0\\\n",
    "QL 0,50 ≤ 0,99 localização média = 1\\\n",
    "QL ≥ 1 localização significativa = 2"
   ]
  },
  {
   "cell_type": "markdown",
   "metadata": {},
   "source": [
    "##### Modelo de classificação"
   ]
  },
  {
   "cell_type": "code",
   "execution_count": 5,
   "metadata": {},
   "outputs": [],
   "source": [
    "df_vc_ql_2020 = df_vc_jovens_ql_bn.query('ano == 2020')"
   ]
  },
  {
   "cell_type": "code",
   "execution_count": 6,
   "metadata": {},
   "outputs": [],
   "source": [
    "# Selecionar colunas mais relevantes no Modelo.\n",
    "df_vc_ql_2020 = df_vc_ql_2020.loc[:,['qt_vc_munic', 'qt_vc_divisao_uf', 'cnae_20_divisao', 'municipio', 'vl_remun_media_nom', 'qt_vc_divisao_munic', 'qt_vc_uf', 'uf','quociente_locacional', 'classificacao_ql']]"
   ]
  },
  {
   "cell_type": "code",
   "execution_count": 7,
   "metadata": {},
   "outputs": [
    {
     "data": {
      "text/plain": [
       "Index(['qt_vc_munic', 'qt_vc_divisao_uf', 'cnae_20_divisao', 'municipio',\n",
       "       'vl_remun_media_nom', 'qt_vc_divisao_munic', 'qt_vc_uf', 'uf',\n",
       "       'quociente_locacional', 'classificacao_ql'],\n",
       "      dtype='object')"
      ]
     },
     "execution_count": 7,
     "metadata": {},
     "output_type": "execute_result"
    }
   ],
   "source": [
    "\n",
    "df_vc_ql_2020.columns"
   ]
  },
  {
   "cell_type": "code",
   "execution_count": 8,
   "metadata": {},
   "outputs": [],
   "source": [
    "# armazenando os labels em um array\n",
    "labels = np.array(df_vc_ql_2020['classificacao_ql'])\n",
    "\n",
    "# salvando a ordem das features\n",
    "feature_list = list(df_vc_ql_2020.columns)"
   ]
  },
  {
   "cell_type": "code",
   "execution_count": 9,
   "metadata": {},
   "outputs": [
    {
     "data": {
      "text/plain": [
       "array([2, 2, 2, ..., 2, 2, 2], dtype=int64)"
      ]
     },
     "execution_count": 9,
     "metadata": {},
     "output_type": "execute_result"
    }
   ],
   "source": [
    "labels"
   ]
  },
  {
   "cell_type": "code",
   "execution_count": 10,
   "metadata": {},
   "outputs": [
    {
     "data": {
      "text/plain": [
       "Index(['qt_vc_munic', 'qt_vc_divisao_uf', 'cnae_20_divisao', 'municipio',\n",
       "       'vl_remun_media_nom', 'qt_vc_divisao_munic', 'qt_vc_uf', 'uf'],\n",
       "      dtype='object')"
      ]
     },
     "execution_count": 10,
     "metadata": {},
     "output_type": "execute_result"
    }
   ],
   "source": [
    "# removendo a coluna de labels do df original\n",
    "df_vinculos_class = df_vc_ql_2020.drop(['quociente_locacional', 'classificacao_ql'], axis = 1)\n",
    "# check\n",
    "df_vinculos_class.columns"
   ]
  },
  {
   "cell_type": "code",
   "execution_count": 11,
   "metadata": {},
   "outputs": [],
   "source": [
    "# convertendo df_vinculos_class para array\n",
    "data = np.array(df_vinculos_class)"
   ]
  },
  {
   "cell_type": "code",
   "execution_count": 12,
   "metadata": {},
   "outputs": [
    {
     "data": {
      "text/plain": [
       "(130859, 8)"
      ]
     },
     "execution_count": 12,
     "metadata": {},
     "output_type": "execute_result"
    }
   ],
   "source": [
    "data.shape"
   ]
  },
  {
   "cell_type": "code",
   "execution_count": 13,
   "metadata": {},
   "outputs": [
    {
     "data": {
      "text/plain": [
       "(130859,)"
      ]
     },
     "execution_count": 13,
     "metadata": {},
     "output_type": "execute_result"
    }
   ],
   "source": [
    "labels.shape"
   ]
  },
  {
   "cell_type": "code",
   "execution_count": 14,
   "metadata": {},
   "outputs": [],
   "source": [
    "from sklearn import preprocessing\n",
    "from sklearn import utils\n",
    "\n",
    "#convert y values to categorical values\n",
    "#lab = preprocessing.LabelEncoder()\n",
    "#labels = lab.fit_transform(labels)"
   ]
  },
  {
   "cell_type": "markdown",
   "metadata": {},
   "source": [
    "# Random Forest Classifiers"
   ]
  },
  {
   "cell_type": "code",
   "execution_count": 15,
   "metadata": {},
   "outputs": [],
   "source": [
    "# importar train_test_split do scikitlearn \n",
    "from sklearn.model_selection import train_test_split\n",
    "\n",
    "# aplicando a funcao train_test_split para separar os conjuntos de treino e \n",
    "# teste segundo uma porcentagem de separação definida. \n",
    "train_data, test_data, train_labels, test_labels = train_test_split(data, labels, test_size = 0.25, random_state = 42)"
   ]
  },
  {
   "cell_type": "code",
   "execution_count": 16,
   "metadata": {},
   "outputs": [],
   "source": [
    "# importar o modelo Random Forest Regressor\n",
    "from sklearn.ensemble import RandomForestClassifier"
   ]
  },
  {
   "cell_type": "code",
   "execution_count": 17,
   "metadata": {},
   "outputs": [],
   "source": [
    "# treinando o modelo \n",
    "classifier = RandomForestClassifier(n_estimators= 100, random_state=42).fit(train_data, train_labels);"
   ]
  },
  {
   "cell_type": "code",
   "execution_count": 18,
   "metadata": {},
   "outputs": [
    {
     "data": {
      "text/html": [
       "<div>\n",
       "<style scoped>\n",
       "    .dataframe tbody tr th:only-of-type {\n",
       "        vertical-align: middle;\n",
       "    }\n",
       "\n",
       "    .dataframe tbody tr th {\n",
       "        vertical-align: top;\n",
       "    }\n",
       "\n",
       "    .dataframe thead th {\n",
       "        text-align: right;\n",
       "    }\n",
       "</style>\n",
       "<table border=\"1\" class=\"dataframe\">\n",
       "  <thead>\n",
       "    <tr style=\"text-align: right;\">\n",
       "      <th></th>\n",
       "      <th>Caracteristica</th>\n",
       "      <th>Importancia</th>\n",
       "    </tr>\n",
       "  </thead>\n",
       "  <tbody>\n",
       "    <tr>\n",
       "      <th>0</th>\n",
       "      <td>qt_vc_munic</td>\n",
       "      <td>0.263970</td>\n",
       "    </tr>\n",
       "    <tr>\n",
       "      <th>5</th>\n",
       "      <td>qt_vc_divisao_munic</td>\n",
       "      <td>0.227513</td>\n",
       "    </tr>\n",
       "    <tr>\n",
       "      <th>1</th>\n",
       "      <td>qt_vc_divisao_uf</td>\n",
       "      <td>0.171730</td>\n",
       "    </tr>\n",
       "    <tr>\n",
       "      <th>4</th>\n",
       "      <td>vl_remun_media_nom</td>\n",
       "      <td>0.092468</td>\n",
       "    </tr>\n",
       "    <tr>\n",
       "      <th>3</th>\n",
       "      <td>municipio</td>\n",
       "      <td>0.089069</td>\n",
       "    </tr>\n",
       "  </tbody>\n",
       "</table>\n",
       "</div>"
      ],
      "text/plain": [
       "        Caracteristica  Importancia\n",
       "0          qt_vc_munic     0.263970\n",
       "5  qt_vc_divisao_munic     0.227513\n",
       "1     qt_vc_divisao_uf     0.171730\n",
       "4   vl_remun_media_nom     0.092468\n",
       "3            municipio     0.089069"
      ]
     },
     "execution_count": 18,
     "metadata": {},
     "output_type": "execute_result"
    }
   ],
   "source": [
    "# Obter a importância das características\n",
    "importancias = classifier.feature_importances_\n",
    "\n",
    "# Criar um DataFrame para visualizar melhor as importâncias\n",
    "caracteristicas_df = pd.DataFrame({\n",
    "    'Caracteristica': df_vinculos_class.columns,\n",
    "    'Importancia': importancias\n",
    "})\n",
    "\n",
    "# Ordenar o DataFrame pela importância de forma decrescente\n",
    "caracteristicas_df.sort_values(by='Importancia', ascending=False, inplace=True)\n",
    "\n",
    "caracteristicas_df.head(5)"
   ]
  },
  {
   "cell_type": "markdown",
   "metadata": {},
   "source": [
    "Aprendizado - o modelo melhorou os resultdos após a seleção das colunas mais relevantes para o modelo. O número grande de colunas binarizadas não ajudou no modelo."
   ]
  },
  {
   "cell_type": "code",
   "execution_count": 19,
   "metadata": {},
   "outputs": [],
   "source": [
    "# Colunas mais relevantes do modelo.\n",
    "#'qt_vc_munic', 'qt_vc_divisao_uf', 'cnae_20_divisao', 'municipio', 'vl_remun_media_nom', 'qt_vc_divisao_munic', 'qt_vc_uf', 'uf'"
   ]
  },
  {
   "cell_type": "code",
   "execution_count": 20,
   "metadata": {},
   "outputs": [
    {
     "data": {
      "text/html": [
       "<div>\n",
       "<style scoped>\n",
       "    .dataframe tbody tr th:only-of-type {\n",
       "        vertical-align: middle;\n",
       "    }\n",
       "\n",
       "    .dataframe tbody tr th {\n",
       "        vertical-align: top;\n",
       "    }\n",
       "\n",
       "    .dataframe thead th {\n",
       "        text-align: right;\n",
       "    }\n",
       "</style>\n",
       "<table border=\"1\" class=\"dataframe\">\n",
       "  <thead>\n",
       "    <tr style=\"text-align: right;\">\n",
       "      <th></th>\n",
       "      <th>Real</th>\n",
       "      <th>Previsto</th>\n",
       "    </tr>\n",
       "  </thead>\n",
       "  <tbody>\n",
       "    <tr>\n",
       "      <th>0</th>\n",
       "      <td>2</td>\n",
       "      <td>2</td>\n",
       "    </tr>\n",
       "    <tr>\n",
       "      <th>1</th>\n",
       "      <td>1</td>\n",
       "      <td>1</td>\n",
       "    </tr>\n",
       "    <tr>\n",
       "      <th>2</th>\n",
       "      <td>0</td>\n",
       "      <td>0</td>\n",
       "    </tr>\n",
       "    <tr>\n",
       "      <th>3</th>\n",
       "      <td>1</td>\n",
       "      <td>1</td>\n",
       "    </tr>\n",
       "    <tr>\n",
       "      <th>4</th>\n",
       "      <td>2</td>\n",
       "      <td>2</td>\n",
       "    </tr>\n",
       "    <tr>\n",
       "      <th>5</th>\n",
       "      <td>2</td>\n",
       "      <td>2</td>\n",
       "    </tr>\n",
       "    <tr>\n",
       "      <th>6</th>\n",
       "      <td>2</td>\n",
       "      <td>1</td>\n",
       "    </tr>\n",
       "    <tr>\n",
       "      <th>7</th>\n",
       "      <td>2</td>\n",
       "      <td>1</td>\n",
       "    </tr>\n",
       "    <tr>\n",
       "      <th>8</th>\n",
       "      <td>0</td>\n",
       "      <td>0</td>\n",
       "    </tr>\n",
       "    <tr>\n",
       "      <th>9</th>\n",
       "      <td>2</td>\n",
       "      <td>2</td>\n",
       "    </tr>\n",
       "  </tbody>\n",
       "</table>\n",
       "</div>"
      ],
      "text/plain": [
       "   Real  Previsto\n",
       "0     2         2\n",
       "1     1         1\n",
       "2     0         0\n",
       "3     1         1\n",
       "4     2         2\n",
       "5     2         2\n",
       "6     2         1\n",
       "7     2         1\n",
       "8     0         0\n",
       "9     2         2"
      ]
     },
     "execution_count": 20,
     "metadata": {},
     "output_type": "execute_result"
    }
   ],
   "source": [
    "# aplicando o modelo treinado para a previsão do resultado do teste\n",
    "predictions_labels = classifier.predict(test_data)\n",
    "\n",
    "# Exibindo dataframe com valores 10 reais e suas respectivas previsões\n",
    "p = pd.DataFrame({'Real': test_labels, 'Previsto': predictions_labels})  \n",
    "p.head(10)"
   ]
  },
  {
   "cell_type": "code",
   "execution_count": 21,
   "metadata": {},
   "outputs": [],
   "source": [
    "#avaliando o modelo \n",
    "from sklearn import metrics"
   ]
  },
  {
   "cell_type": "code",
   "execution_count": 22,
   "metadata": {},
   "outputs": [
    {
     "name": "stdout",
     "output_type": "stream",
     "text": [
      "Matriz de Confusão\n",
      " [[10120   740    93]\n",
      " [  662  4961  1499]\n",
      " [   97   695 13848]]\n"
     ]
    }
   ],
   "source": [
    "#avaliando o modelo\n",
    "print('Matriz de Confusão\\n', metrics.confusion_matrix(test_labels, predictions_labels)) \n"
   ]
  },
  {
   "cell_type": "code",
   "execution_count": 23,
   "metadata": {},
   "outputs": [
    {
     "name": "stdout",
     "output_type": "stream",
     "text": [
      "\n",
      "Classification Report\n",
      "               precision    recall  f1-score   support\n",
      "\n",
      "           0       0.93      0.92      0.93     10953\n",
      "           1       0.78      0.70      0.73      7122\n",
      "           2       0.90      0.95      0.92     14640\n",
      "\n",
      "    accuracy                           0.88     32715\n",
      "   macro avg       0.87      0.86      0.86     32715\n",
      "weighted avg       0.88      0.88      0.88     32715\n",
      "\n"
     ]
    }
   ],
   "source": [
    "print('\\nClassification Report\\n', metrics.classification_report(test_labels, predictions_labels)) "
   ]
  },
  {
   "cell_type": "code",
   "execution_count": 24,
   "metadata": {},
   "outputs": [
    {
     "data": {
      "image/png": "[encoded data removed]",
      "text/plain": [
       "<Figure size 640x480 with 1 Axes>"
      ]
     },
     "metadata": {},
     "output_type": "display_data"
    }
   ],
   "source": [
    "#criando labels e os valores armazenados nas barras\n",
    "labels = ['localização fraca', 'localização média', 'localização significativa']\n",
    "count_test = [(test_labels == 0).sum(), (test_labels == 1).sum(), (test_labels == 2).sum()]\n",
    "count_rf = [(predictions_labels == 0).sum(), (predictions_labels == 1).sum(), (predictions_labels == 2).sum()]\n",
    "\n",
    "#criando as barras\n",
    "x = np.arange(len(labels))  # the label locations\n",
    "width = 0.3  # the width of the bars\n",
    "\n",
    "#criancdo os plots\n",
    "fig, ax = plt.subplots()\n",
    "rects1 = ax.bar(x - width/2, count_test, width, label='Valores reais')\n",
    "rects2 = ax.bar(x + width/2, count_rf, width, label='Valores RF')\n",
    "\n",
    "# Add some text for labels, title and custom x-axis tick labels, etc.\n",
    "ax.set_ylabel('Instances')\n",
    "ax.set_title('Real x Random Forest')\n",
    "ax.set_xticks(x)\n",
    "ax.set_xticklabels(labels)\n",
    "ax.legend()\n",
    "\n",
    "\n",
    "def autolabel(rects):\n",
    "    \"\"\"Attach a text label above each bar in *rects*, displaying its height.\"\"\"\n",
    "    for rect in rects:\n",
    "        height = rect.get_height()\n",
    "        ax.annotate('{}'.format(height),\n",
    "                    xy=(rect.get_x() + rect.get_width() / 2, height),\n",
    "                    xytext=(0, 3),  # 3 points vertical offset\n",
    "                    textcoords=\"offset points\",\n",
    "                    ha='center', va='bottom')\n",
    "\n",
    "#plotando o grafico de barras agrupadas\n",
    "autolabel(rects1)\n",
    "autolabel(rects2)\n",
    "fig.tight_layout()\n",
    "\n",
    "plt.show()"
   ]
  },
  {
   "cell_type": "markdown",
   "metadata": {},
   "source": [
    "Reprodução do modelo para o Ano de 2022"
   ]
  },
  {
   "cell_type": "code",
   "execution_count": 25,
   "metadata": {},
   "outputs": [],
   "source": [
    "df_vc_ql_2022 = df_vc_jovens_ql_bn.query('ano == 2022').copy()"
   ]
  },
  {
   "cell_type": "code",
   "execution_count": 26,
   "metadata": {},
   "outputs": [],
   "source": [
    "# Selecionar colunas mais relevantes no Modelo.\n",
    "df_vc_ql_2022 = df_vc_ql_2022.loc[:,['qt_vc_munic', 'qt_vc_divisao_uf', 'cnae_20_divisao', 'municipio', 'vl_remun_media_nom', 'qt_vc_divisao_munic', 'qt_vc_uf', 'uf','quociente_locacional', 'classificacao_ql']]"
   ]
  },
  {
   "cell_type": "code",
   "execution_count": 27,
   "metadata": {},
   "outputs": [],
   "source": [
    "# armazenando os labels em um array\n",
    "labels22 = np.array(df_vc_ql_2022['classificacao_ql'])\n",
    "\n",
    "# salvando a ordem das features\n",
    "feature_list22 = list(df_vc_ql_2022.columns)"
   ]
  },
  {
   "cell_type": "code",
   "execution_count": 28,
   "metadata": {},
   "outputs": [
    {
     "data": {
      "text/plain": [
       "Index(['qt_vc_munic', 'qt_vc_divisao_uf', 'cnae_20_divisao', 'municipio',\n",
       "       'vl_remun_media_nom', 'qt_vc_divisao_munic', 'qt_vc_uf', 'uf'],\n",
       "      dtype='object')"
      ]
     },
     "execution_count": 28,
     "metadata": {},
     "output_type": "execute_result"
    }
   ],
   "source": [
    "# removendo a coluna de labels do df original\n",
    "df_vinculos_class22 = df_vc_ql_2022.drop(['quociente_locacional', 'classificacao_ql'], axis = 1)\n",
    "# check\n",
    "df_vinculos_class22.columns"
   ]
  },
  {
   "cell_type": "code",
   "execution_count": 29,
   "metadata": {},
   "outputs": [],
   "source": [
    "# convertendo df_vinculos_class para array\n",
    "data22 = np.array(df_vinculos_class22)"
   ]
  },
  {
   "cell_type": "code",
   "execution_count": 30,
   "metadata": {},
   "outputs": [],
   "source": [
    "# importar train_test_split do scikitlearn \n",
    "from sklearn.model_selection import train_test_split\n",
    "\n",
    "# aplicando a funcao train_test_split para separar os conjuntos de treino e \n",
    "# teste segundo uma porcentagem de separação definida. \n",
    "train_data2, test_data2, train_labels2, test_labels2 = train_test_split(data22, labels22, test_size = 0.25, random_state = 42)"
   ]
  },
  {
   "cell_type": "code",
   "execution_count": 31,
   "metadata": {},
   "outputs": [],
   "source": [
    "# treinando o modelo \n",
    "classifier2 = RandomForestClassifier(n_estimators= 100, random_state=42).fit(train_data2, train_labels2);"
   ]
  },
  {
   "cell_type": "code",
   "execution_count": 32,
   "metadata": {},
   "outputs": [
    {
     "data": {
      "text/html": [
       "<div>\n",
       "<style scoped>\n",
       "    .dataframe tbody tr th:only-of-type {\n",
       "        vertical-align: middle;\n",
       "    }\n",
       "\n",
       "    .dataframe tbody tr th {\n",
       "        vertical-align: top;\n",
       "    }\n",
       "\n",
       "    .dataframe thead th {\n",
       "        text-align: right;\n",
       "    }\n",
       "</style>\n",
       "<table border=\"1\" class=\"dataframe\">\n",
       "  <thead>\n",
       "    <tr style=\"text-align: right;\">\n",
       "      <th></th>\n",
       "      <th>Real</th>\n",
       "      <th>Previsto</th>\n",
       "    </tr>\n",
       "  </thead>\n",
       "  <tbody>\n",
       "    <tr>\n",
       "      <th>0</th>\n",
       "      <td>2</td>\n",
       "      <td>2</td>\n",
       "    </tr>\n",
       "    <tr>\n",
       "      <th>1</th>\n",
       "      <td>0</td>\n",
       "      <td>0</td>\n",
       "    </tr>\n",
       "    <tr>\n",
       "      <th>2</th>\n",
       "      <td>0</td>\n",
       "      <td>0</td>\n",
       "    </tr>\n",
       "    <tr>\n",
       "      <th>3</th>\n",
       "      <td>2</td>\n",
       "      <td>2</td>\n",
       "    </tr>\n",
       "    <tr>\n",
       "      <th>4</th>\n",
       "      <td>1</td>\n",
       "      <td>1</td>\n",
       "    </tr>\n",
       "    <tr>\n",
       "      <th>5</th>\n",
       "      <td>0</td>\n",
       "      <td>1</td>\n",
       "    </tr>\n",
       "    <tr>\n",
       "      <th>6</th>\n",
       "      <td>0</td>\n",
       "      <td>0</td>\n",
       "    </tr>\n",
       "    <tr>\n",
       "      <th>7</th>\n",
       "      <td>0</td>\n",
       "      <td>0</td>\n",
       "    </tr>\n",
       "    <tr>\n",
       "      <th>8</th>\n",
       "      <td>1</td>\n",
       "      <td>1</td>\n",
       "    </tr>\n",
       "    <tr>\n",
       "      <th>9</th>\n",
       "      <td>1</td>\n",
       "      <td>1</td>\n",
       "    </tr>\n",
       "  </tbody>\n",
       "</table>\n",
       "</div>"
      ],
      "text/plain": [
       "   Real  Previsto\n",
       "0     2         2\n",
       "1     0         0\n",
       "2     0         0\n",
       "3     2         2\n",
       "4     1         1\n",
       "5     0         1\n",
       "6     0         0\n",
       "7     0         0\n",
       "8     1         1\n",
       "9     1         1"
      ]
     },
     "execution_count": 32,
     "metadata": {},
     "output_type": "execute_result"
    }
   ],
   "source": [
    "# aplicando o modelo treinado para a previsão do resultado do teste\n",
    "predictions_labels2 = classifier2.predict(test_data2)\n",
    "\n",
    "# Exibindo dataframe com valores 10 reais e suas respectivas previsões\n",
    "p = pd.DataFrame({'Real': test_labels2, 'Previsto': predictions_labels2})  \n",
    "p.head(10)"
   ]
  },
  {
   "cell_type": "code",
   "execution_count": 33,
   "metadata": {},
   "outputs": [
    {
     "name": "stdout",
     "output_type": "stream",
     "text": [
      "Matriz de Confusão\n",
      " [[10868   694    84]\n",
      " [  705  5344  1345]\n",
      " [  106   707 13549]]\n",
      "\n",
      "Classification Report\n",
      "               precision    recall  f1-score   support\n",
      "\n",
      "           0       0.93      0.93      0.93     11646\n",
      "           1       0.79      0.72      0.76      7394\n",
      "           2       0.90      0.94      0.92     14362\n",
      "\n",
      "    accuracy                           0.89     33402\n",
      "   macro avg       0.88      0.87      0.87     33402\n",
      "weighted avg       0.89      0.89      0.89     33402\n",
      "\n"
     ]
    }
   ],
   "source": [
    "#avaliando o modelo\n",
    "print('Matriz de Confusão\\n', metrics.confusion_matrix(test_labels2, predictions_labels2)) \n",
    "\n",
    "print('\\nClassification Report\\n', metrics.classification_report(test_labels2, predictions_labels2)) "
   ]
  }
 ],
 "metadata": {
  "kernelspec": {
   "display_name": "Python 3",
   "language": "python",
   "name": "python3"
  },
  "language_info": {
   "codemirror_mode": {
    "name": "ipython",
    "version": 3
   },
   "file_extension": ".py",
   "mimetype": "text/x-python",
   "name": "python",
   "nbconvert_exporter": "python",
   "pygments_lexer": "ipython3",
   "version": "3.12.2"
  }
 },
 "nbformat": 4,
 "nbformat_minor": 2
}
